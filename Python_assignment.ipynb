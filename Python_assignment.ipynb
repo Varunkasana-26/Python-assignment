{
  "nbformat": 4,
  "nbformat_minor": 0,
  "metadata": {
    "colab": {
      "provenance": [],
      "authorship_tag": "ABX9TyOgv2g2ODfDsylEWvJZUIsI",
      "include_colab_link": true
    },
    "kernelspec": {
      "name": "python3",
      "display_name": "Python 3"
    },
    "language_info": {
      "name": "python"
    }
  },
  "cells": [
    {
      "cell_type": "markdown",
      "metadata": {
        "id": "view-in-github",
        "colab_type": "text"
      },
      "source": [
        "<a href=\"https://colab.research.google.com/github/Varunkasana-26/Python-assignment/blob/main/Python_assignment.ipynb\" target=\"_parent\"><img src=\"https://colab.research.google.com/assets/colab-badge.svg\" alt=\"Open In Colab\"/></a>"
      ]
    },
    {
      "cell_type": "markdown",
      "source": [],
      "metadata": {
        "id": "2hamKnCLFbWx"
      }
    },
    {
      "cell_type": "markdown",
      "source": [
        "Q1 - L is the lsit defined as L = [11,12,13,14]"
      ],
      "metadata": {
        "id": "b4np3pAmFc4_"
      }
    },
    {
      "cell_type": "code",
      "source": [
        "#to add 50 and 60 to L\n",
        "L = [11,12,13,14]\n",
        "print(L)\n",
        "L.append(50)\n",
        "L.append(60)\n",
        "print(L)"
      ],
      "metadata": {
        "colab": {
          "base_uri": "https://localhost:8080/"
        },
        "id": "SufCYIPzGSQe",
        "outputId": "996bf41d-0189-466a-ce4f-57ffca14830f"
      },
      "execution_count": 8,
      "outputs": [
        {
          "output_type": "stream",
          "name": "stdout",
          "text": [
            "[11, 12, 13, 14]\n",
            "[11, 12, 13, 14, 50, 60]\n"
          ]
        }
      ]
    },
    {
      "cell_type": "code",
      "source": [
        "#to remove 11 and 13 from L\n",
        "L.remove(11)\n",
        "L.remove(13)\n",
        "print(L)"
      ],
      "metadata": {
        "colab": {
          "base_uri": "https://localhost:8080/"
        },
        "id": "d6YgBjxwGh6h",
        "outputId": "6a15bd36-0852-4db4-baeb-911e09225a9f"
      },
      "execution_count": 9,
      "outputs": [
        {
          "output_type": "stream",
          "name": "stdout",
          "text": [
            "[12, 14, 50, 60]\n"
          ]
        }
      ]
    },
    {
      "cell_type": "code",
      "source": [
        " #sort L in ascending order\n",
        " L.sort()\n",
        "print(L)"
      ],
      "metadata": {
        "colab": {
          "base_uri": "https://localhost:8080/"
        },
        "id": "ceZdUwOeGuAf",
        "outputId": "22712829-73df-4b5e-c454-2fdb1c17deac"
      },
      "execution_count": 10,
      "outputs": [
        {
          "output_type": "stream",
          "name": "stdout",
          "text": [
            "[12, 14, 50, 60]\n"
          ]
        }
      ]
    },
    {
      "cell_type": "code",
      "source": [
        "#sort L in descending order\n",
        "L.sort(reverse=True)\n",
        "print(\"descending order of list --->\",L)"
      ],
      "metadata": {
        "colab": {
          "base_uri": "https://localhost:8080/"
        },
        "id": "cfKQvl9xG7LG",
        "outputId": "e2efe30a-31e7-4820-eb92-86c3bcd95226"
      },
      "execution_count": 11,
      "outputs": [
        {
          "output_type": "stream",
          "name": "stdout",
          "text": [
            "descending order of list ---> [60, 50, 14, 12]\n"
          ]
        }
      ]
    },
    {
      "cell_type": "code",
      "source": [
        "# search for 13 in L\n",
        "if (13 in L):\n",
        "  print(\"present\")\n",
        "else :\n",
        "  print(\"not present\")"
      ],
      "metadata": {
        "colab": {
          "base_uri": "https://localhost:8080/"
        },
        "id": "S8grWFkpHJJK",
        "outputId": "b5abb1ce-be38-45a6-9722-a500929d59df"
      },
      "execution_count": 12,
      "outputs": [
        {
          "output_type": "stream",
          "name": "stdout",
          "text": [
            "not present\n"
          ]
        }
      ]
    },
    {
      "cell_type": "code",
      "source": [
        "#count the number of elements present in L\n",
        "x =len(L)\n",
        "print(\"no. of element in L:\", x)"
      ],
      "metadata": {
        "colab": {
          "base_uri": "https://localhost:8080/"
        },
        "id": "QL0MfU8aHylO",
        "outputId": "e64d6ad7-9e10-4ac8-fb26-61c98a2c7964"
      },
      "execution_count": 13,
      "outputs": [
        {
          "output_type": "stream",
          "name": "stdout",
          "text": [
            "no. of element in L: 4\n"
          ]
        }
      ]
    },
    {
      "cell_type": "code",
      "source": [
        "# sum all the elements in L\n",
        "print(\"sum on element -->\", sum(L))"
      ],
      "metadata": {
        "id": "Ajj-DHR0IISv",
        "outputId": "b774b611-edb5-41a0-b7be-2ceb66a4ad30",
        "colab": {
          "base_uri": "https://localhost:8080/"
        }
      },
      "execution_count": 14,
      "outputs": [
        {
          "output_type": "stream",
          "name": "stdout",
          "text": [
            "sum on element --> 136\n"
          ]
        }
      ]
    },
    {
      "cell_type": "code",
      "source": [
        "#sum all ODD numbers in L\n",
        "sum_odd_numbers = sum(num for num in L if num%2 !=0)\n",
        "print(\"sum of odd --->\", sum_odd_numbers)"
      ],
      "metadata": {
        "id": "-aK9yM-vIXKo",
        "outputId": "4b43cf2e-15a0-4ca7-bbb3-549560ed4241",
        "colab": {
          "base_uri": "https://localhost:8080/"
        }
      },
      "execution_count": 15,
      "outputs": [
        {
          "output_type": "stream",
          "name": "stdout",
          "text": [
            "sum of odd ---> 0\n"
          ]
        }
      ]
    },
    {
      "cell_type": "code",
      "source": [
        "# sum all EVEN numbers in L\n",
        "sum_even_numbers = sum(num for num in L if num%2 ==0)\n",
        "print(\"sum of even --->\", sum_even_numbers)"
      ],
      "metadata": {
        "id": "xTsDvS1TJEmO",
        "outputId": "e758fc59-3a22-470d-d00d-2bb5140eb307",
        "colab": {
          "base_uri": "https://localhost:8080/"
        }
      },
      "execution_count": 16,
      "outputs": [
        {
          "output_type": "stream",
          "name": "stdout",
          "text": [
            "sum of even ---> 136\n"
          ]
        }
      ]
    },
    {
      "cell_type": "code",
      "source": [
        "# sum all PRIME numbers in L\n",
        "def is_prime(num):\n",
        "    if num < 2:\n",
        "        return False\n",
        "    for i in range(2, int(num ** 0.5) + 1):\n",
        "        if num % i == 0:\n",
        "            return False\n",
        "    return True\n",
        "\n",
        "def sum_primes_in_list(lst):\n",
        "    return sum(num for num in lst if is_prime(num))\n",
        "\n",
        "numbers = L\n",
        "sum_of_primes = sum_primes_in_list(numbers)\n",
        "print(sum_of_primes)"
      ],
      "metadata": {
        "id": "e3aQ_CX-KcGa",
        "outputId": "ef1821e3-7ae8-4dea-8c8a-683e555539b6",
        "colab": {
          "base_uri": "https://localhost:8080/"
        }
      },
      "execution_count": 17,
      "outputs": [
        {
          "output_type": "stream",
          "name": "stdout",
          "text": [
            "0\n"
          ]
        }
      ]
    },
    {
      "cell_type": "code",
      "source": [
        "# clear all the elements in L\n",
        "L.clear()\n",
        "print(\"after clearing\", L)"
      ],
      "metadata": {
        "id": "g0N6DR_1NR0K",
        "outputId": "78baa1e7-2993-4cda-f843-3e3a4e7cb28a",
        "colab": {
          "base_uri": "https://localhost:8080/"
        }
      },
      "execution_count": 18,
      "outputs": [
        {
          "output_type": "stream",
          "name": "stdout",
          "text": [
            "after clearing []\n"
          ]
        }
      ]
    },
    {
      "cell_type": "code",
      "source": [
        "# delete L\n",
        "del L"
      ],
      "metadata": {
        "id": "p50aTGmLNhfK"
      },
      "execution_count": 19,
      "outputs": []
    },
    {
      "cell_type": "markdown",
      "source": [
        "Q2 - D is a dictionary defined as D= {1:5.6, 2:7.8, 3:6.6, 4:8.7, 5:7.7}"
      ],
      "metadata": {
        "id": "K0cqUZ5aNv-m"
      }
    },
    {
      "cell_type": "code",
      "source": [
        "#add new entry in D; key=8 and value is 8.8\n",
        "D= {1:5.6, 2:7.8, 3:6.6, 4:8.7, 5:7.7}\n",
        "print(D)\n",
        "D[8] = 8.8\n",
        "print(D)"
      ],
      "metadata": {
        "id": "KwABlV0EN8n3",
        "outputId": "4e384198-bc8a-49cc-9627-472dac0f1104",
        "colab": {
          "base_uri": "https://localhost:8080/"
        }
      },
      "execution_count": 20,
      "outputs": [
        {
          "output_type": "stream",
          "name": "stdout",
          "text": [
            "{1: 5.6, 2: 7.8, 3: 6.6, 4: 8.7, 5: 7.7}\n",
            "{1: 5.6, 2: 7.8, 3: 6.6, 4: 8.7, 5: 7.7, 8: 8.8}\n"
          ]
        }
      ]
    },
    {
      "cell_type": "code",
      "source": [
        " #remove key=2\n",
        " del D[2]\n",
        " print(D)"
      ],
      "metadata": {
        "id": "akZE0tvPOcm2",
        "outputId": "599e72ce-c425-41f7-85ce-dad3c8fa190d",
        "colab": {
          "base_uri": "https://localhost:8080/"
        }
      },
      "execution_count": 21,
      "outputs": [
        {
          "output_type": "stream",
          "name": "stdout",
          "text": [
            "{1: 5.6, 3: 6.6, 4: 8.7, 5: 7.7, 8: 8.8}\n"
          ]
        }
      ]
    },
    {
      "cell_type": "code",
      "source": [
        "# check weather 6 key is present in D\n",
        "if (6 in D):\n",
        "  print(\"key 6 present in D\")\n",
        "else:\n",
        "  print(\"not present\")"
      ],
      "metadata": {
        "id": "30kHhkizOsC6",
        "outputId": "b3d772c6-1d1e-49d2-b080-85352ad6504f",
        "colab": {
          "base_uri": "https://localhost:8080/"
        }
      },
      "execution_count": 22,
      "outputs": [
        {
          "output_type": "stream",
          "name": "stdout",
          "text": [
            "not present\n"
          ]
        }
      ]
    },
    {
      "cell_type": "code",
      "source": [
        "#count the number of elements present in D\n",
        "print(len(D))"
      ],
      "metadata": {
        "id": "YWdEqSq-PR-m",
        "outputId": "32382f18-791d-46d8-8146-c166bf7e9f9d",
        "colab": {
          "base_uri": "https://localhost:8080/"
        }
      },
      "execution_count": 23,
      "outputs": [
        {
          "output_type": "stream",
          "name": "stdout",
          "text": [
            "5\n"
          ]
        }
      ]
    },
    {
      "cell_type": "code",
      "source": [
        "#add all the values present D\n",
        "dsum=0\n",
        "\n",
        "for i in D:\n",
        "  dsum+=D[i]\n",
        "\n",
        "print(dsum)"
      ],
      "metadata": {
        "id": "BGrOFmJPVu6a",
        "outputId": "f3c05c3f-87c8-481e-b645-6dcf08090892",
        "colab": {
          "base_uri": "https://localhost:8080/"
        }
      },
      "execution_count": 24,
      "outputs": [
        {
          "output_type": "stream",
          "name": "stdout",
          "text": [
            "37.4\n"
          ]
        }
      ]
    },
    {
      "cell_type": "code",
      "source": [
        "s = sum(D)\n",
        "print(\"sum\", s)"
      ],
      "metadata": {
        "id": "1wefL759Xxk-",
        "outputId": "64f23ec8-1515-43d8-9861-2293ce33e2e0",
        "colab": {
          "base_uri": "https://localhost:8080/"
        }
      },
      "execution_count": 25,
      "outputs": [
        {
          "output_type": "stream",
          "name": "stdout",
          "text": [
            "sum 21\n"
          ]
        }
      ]
    },
    {
      "cell_type": "code",
      "source": [
        "print(\"sum of all no. in D-->\", s + dsum)"
      ],
      "metadata": {
        "id": "RGAIp_8IZh44",
        "outputId": "7ead0c10-2f7e-46dc-83d8-a0ad657822f8",
        "colab": {
          "base_uri": "https://localhost:8080/"
        }
      },
      "execution_count": 26,
      "outputs": [
        {
          "output_type": "stream",
          "name": "stdout",
          "text": [
            "sum of all no. in D--> 58.4\n"
          ]
        }
      ]
    },
    {
      "cell_type": "code",
      "source": [
        "#update the value of 3 to 7.1\n",
        "D[3] = 7.1\n",
        "print(D)"
      ],
      "metadata": {
        "id": "Z79CrlIIZw7R",
        "outputId": "cc933623-3cfe-42c0-c7ed-640f4a7e12e8",
        "colab": {
          "base_uri": "https://localhost:8080/"
        }
      },
      "execution_count": 27,
      "outputs": [
        {
          "output_type": "stream",
          "name": "stdout",
          "text": [
            "{1: 5.6, 3: 7.1, 4: 8.7, 5: 7.7, 8: 8.8}\n"
          ]
        }
      ]
    },
    {
      "cell_type": "code",
      "source": [
        "# clear the dictionary\n",
        "D.clear()\n",
        "print(D)"
      ],
      "metadata": {
        "id": "4gGap__1aSAj",
        "outputId": "d68943f1-df9d-400e-d5ee-52efe3800617",
        "colab": {
          "base_uri": "https://localhost:8080/"
        }
      },
      "execution_count": 28,
      "outputs": [
        {
          "output_type": "stream",
          "name": "stdout",
          "text": [
            "{}\n"
          ]
        }
      ]
    },
    {
      "cell_type": "markdown",
      "source": [
        "Q-3 S1 is a set defined as S1= [10, 20, 30, 40, 50, 60]\n",
        "    S2 is a set defined as S2= [40, 50, 60, 70, 80, 90]"
      ],
      "metadata": {
        "id": "uSTiIYspdvIC"
      }
    },
    {
      "cell_type": "code",
      "source": [
        "#add 55 and 66 in Set S1\n",
        "S1= [10, 20, 30, 40, 50, 60]\n",
        "a = set(S1)\n",
        "S2= [40, 50, 60, 70, 80, 90]\n",
        "b = set(S2)\n",
        "print(S1)\n",
        "S1.append(55)\n",
        "S1.append(61)\n",
        "print(S1)\n"
      ],
      "metadata": {
        "id": "ot8UQ2QTa5YI",
        "outputId": "3b4380e3-d56d-407e-ce37-ce68e0609e4b",
        "colab": {
          "base_uri": "https://localhost:8080/"
        }
      },
      "execution_count": 29,
      "outputs": [
        {
          "output_type": "stream",
          "name": "stdout",
          "text": [
            "[10, 20, 30, 40, 50, 60]\n",
            "[10, 20, 30, 40, 50, 60, 55, 61]\n"
          ]
        }
      ]
    },
    {
      "cell_type": "code",
      "source": [
        "#remove 10 and 30 from Set S1\n",
        "S1.remove(10)\n",
        "S1.remove(30)\n",
        "print(S1)"
      ],
      "metadata": {
        "id": "ZM0iypRzcTL3",
        "outputId": "a1a6255a-d441-4eff-bf4d-ee568623ec63",
        "colab": {
          "base_uri": "https://localhost:8080/"
        }
      },
      "execution_count": 30,
      "outputs": [
        {
          "output_type": "stream",
          "name": "stdout",
          "text": [
            "[20, 40, 50, 60, 55, 61]\n"
          ]
        }
      ]
    },
    {
      "cell_type": "code",
      "source": [
        "# check whether 40 is present in S1\n",
        "if 40 in S1:\n",
        "  print(\"present\")\n",
        "else :\n",
        "  print(\"not present\")"
      ],
      "metadata": {
        "id": "D2bphUEEclSM",
        "outputId": "17dbafff-2332-4809-f188-d5e0c767e865",
        "colab": {
          "base_uri": "https://localhost:8080/"
        }
      },
      "execution_count": 31,
      "outputs": [
        {
          "output_type": "stream",
          "name": "stdout",
          "text": [
            "present\n"
          ]
        }
      ]
    },
    {
      "cell_type": "code",
      "source": [
        "#find the union between S1 and S2.\n",
        "print(\"union of S1 and S2-->\", a.union(b))"
      ],
      "metadata": {
        "id": "2U1Hu3CldAY-",
        "outputId": "e1a2a3bf-7b08-44a3-d6f4-c4d6ffc4fb5e",
        "colab": {
          "base_uri": "https://localhost:8080/"
        }
      },
      "execution_count": 32,
      "outputs": [
        {
          "output_type": "stream",
          "name": "stdout",
          "text": [
            "union of S1 and S2--> {70, 40, 10, 80, 50, 20, 90, 60, 30}\n"
          ]
        }
      ]
    },
    {
      "cell_type": "code",
      "source": [
        "# find the intersection between S1 and S2\n",
        "print(\" intersection between S1 and S2-->\", a.intersection(b))"
      ],
      "metadata": {
        "id": "9nFUOpp1eOoS",
        "outputId": "07daf9ef-d718-4d0e-8ff0-97438f2a85ff",
        "colab": {
          "base_uri": "https://localhost:8080/"
        }
      },
      "execution_count": 33,
      "outputs": [
        {
          "output_type": "stream",
          "name": "stdout",
          "text": [
            " intersection between S1 and S2--> {40, 50, 60}\n"
          ]
        }
      ]
    },
    {
      "cell_type": "code",
      "source": [
        "#find the S1 - S2\n",
        "print(\"the S1 - S2-->\", a.difference(b))"
      ],
      "metadata": {
        "id": "nPlxEd2BeY9W",
        "outputId": "d7183c01-e562-4aea-ed2a-be70ceecc91b",
        "colab": {
          "base_uri": "https://localhost:8080/"
        }
      },
      "execution_count": 34,
      "outputs": [
        {
          "output_type": "stream",
          "name": "stdout",
          "text": [
            "the S1 - S2--> {10, 20, 30}\n"
          ]
        }
      ]
    },
    {
      "cell_type": "markdown",
      "source": [
        "Q-4"
      ],
      "metadata": {
        "id": "NuoqkErwenWz"
      }
    },
    {
      "cell_type": "code",
      "source": [
        "#print 100 random strings whose length between 6 and 8\n",
        "import string as s\n",
        "import random as r\n",
        "letters= s.ascii_letters\n",
        "print(letters)"
      ],
      "metadata": {
        "id": "_t0i3MkKe15T",
        "outputId": "c6d1404b-3d01-4772-c9ae-a02a59e36221",
        "colab": {
          "base_uri": "https://localhost:8080/"
        }
      },
      "execution_count": 35,
      "outputs": [
        {
          "output_type": "stream",
          "name": "stdout",
          "text": [
            "abcdefghijklmnopqrstuvwxyzABCDEFGHIJKLMNOPQRSTUVWXYZ\n"
          ]
        }
      ]
    },
    {
      "cell_type": "code",
      "source": [
        "for i in range (1,101):\n",
        "  print(i,\": \", r.sample(letters,r.randint(6,8)))"
      ],
      "metadata": {
        "id": "t2BeY7KplBnq",
        "outputId": "99e54960-7df2-4ce3-e2ac-f09dbe5ffe41",
        "colab": {
          "base_uri": "https://localhost:8080/"
        }
      },
      "execution_count": 36,
      "outputs": [
        {
          "output_type": "stream",
          "name": "stdout",
          "text": [
            "1 :  ['v', 'I', 'q', 'F', 'O', 'U', 'B', 'n']\n",
            "2 :  ['Y', 'D', 'x', 'Z', 'I', 'r']\n",
            "3 :  ['i', 'F', 'n', 'b', 'q', 'U', 'w']\n",
            "4 :  ['t', 'd', 'F', 'B', 'g', 'A', 'n', 'e']\n",
            "5 :  ['z', 'v', 'M', 'U', 'J', 'S', 's']\n",
            "6 :  ['E', 'R', 'j', 'G', 'k', 'F', 'W', 'Z']\n",
            "7 :  ['M', 'X', 'R', 'c', 'o', 'U', 'a']\n",
            "8 :  ['o', 'J', 'n', 'x', 'h', 'H']\n",
            "9 :  ['L', 'S', 'O', 'd', 'X', 'q', 'e', 't']\n",
            "10 :  ['w', 'd', 'B', 'V', 'O', 'N', 'C', 'R']\n",
            "11 :  ['D', 'p', 'h', 't', 'H', 'r']\n",
            "12 :  ['w', 'z', 't', 'M', 'n', 'k', 'c']\n",
            "13 :  ['w', 'K', 'H', 'Y', 'Q', 'P', 'U', 'B']\n",
            "14 :  ['v', 'h', 'U', 'B', 'I', 'k']\n",
            "15 :  ['G', 'a', 'D', 'M', 'z', 'L', 'O', 'e']\n",
            "16 :  ['X', 'D', 'E', 'i', 'T', 'A']\n",
            "17 :  ['z', 'q', 'C', 'I', 'd', 'f', 'R', 'k']\n",
            "18 :  ['E', 'n', 'x', 'y', 'h', 'p', 'B']\n",
            "19 :  ['u', 'N', 'Y', 'A', 'Q', 'g', 'R']\n",
            "20 :  ['m', 'C', 'a', 'd', 'L', 'R', 'M', 'n']\n",
            "21 :  ['y', 'N', 'i', 'G', 'Y', 'h']\n",
            "22 :  ['V', 'P', 'c', 'M', 'N', 'I', 'i', 'e']\n",
            "23 :  ['o', 'B', 'b', 'L', 'a', 'W', 'p', 'n']\n",
            "24 :  ['N', 'q', 'x', 'u', 'f', 'C', 'R']\n",
            "25 :  ['M', 'y', 'A', 'u', 'K', 'Y', 'L', 'C']\n",
            "26 :  ['c', 'C', 'b', 'y', 'h', 'B', 's']\n",
            "27 :  ['n', 'W', 'm', 'G', 't', 'Y']\n",
            "28 :  ['e', 'l', 'T', 'I', 'J', 'p', 'V']\n",
            "29 :  ['n', 'D', 'H', 'g', 'y', 't', 'V', 'w']\n",
            "30 :  ['l', 'w', 'y', 'B', 'k', 'X', 'g', 'M']\n",
            "31 :  ['X', 'U', 'O', 'Q', 's', 'L', 'B']\n",
            "32 :  ['V', 'l', 'x', 'O', 'Q', 'd', 'a', 'c']\n",
            "33 :  ['k', 'b', 'I', 't', 'w', 'f']\n",
            "34 :  ['o', 'A', 'b', 'F', 'r', 'W', 'a']\n",
            "35 :  ['L', 'Q', 'k', 'm', 'K', 'h', 'n', 'q']\n",
            "36 :  ['y', 'l', 'H', 'r', 'L', 'o', 'a', 'p']\n",
            "37 :  ['r', 'L', 'H', 'd', 'o', 'p']\n",
            "38 :  ['g', 'N', 'w', 'u', 'y', 'S']\n",
            "39 :  ['L', 'y', 'M', 'l', 'P', 'Q', 'b']\n",
            "40 :  ['D', 'M', 'f', 'l', 'y', 'r']\n",
            "41 :  ['j', 'v', 'w', 'B', 'f', 'b', 't']\n",
            "42 :  ['p', 'E', 's', 'J', 'V', 'G', 'X', 'u']\n",
            "43 :  ['d', 'D', 'A', 'f', 'Y', 'P', 'q', 'y']\n",
            "44 :  ['N', 'f', 'Q', 'j', 'i', 'k']\n",
            "45 :  ['r', 'j', 'K', 'p', 'q', 'Q', 'V']\n",
            "46 :  ['O', 'C', 'D', 'W', 'H', 'B', 'v', 't']\n",
            "47 :  ['e', 'a', 'B', 'X', 'C', 'T', 'U', 'P']\n",
            "48 :  ['B', 'h', 'a', 'n', 'y', 'H', 'T']\n",
            "49 :  ['R', 'G', 'L', 'g', 'n', 'h', 'm']\n",
            "50 :  ['n', 'Y', 'I', 'J', 'Z', 'S', 'v']\n",
            "51 :  ['P', 'Z', 'h', 'U', 't', 'a']\n",
            "52 :  ['e', 'J', 'L', 'a', 'W', 'k', 'P']\n",
            "53 :  ['N', 'H', 'i', 'm', 'b', 'D', 'd', 'Z']\n",
            "54 :  ['O', 'd', 'L', 'V', 'b', 'j', 'i', 'R']\n",
            "55 :  ['c', 'K', 'x', 'i', 'B', 'L']\n",
            "56 :  ['P', 'U', 'w', 'Z', 'T', 'Q']\n",
            "57 :  ['f', 'm', 'v', 't', 'Z', 'n']\n",
            "58 :  ['Y', 'Z', 'D', 'C', 'j', 'u']\n",
            "59 :  ['U', 'z', 'J', 'r', 'a', 'G', 'E', 'm']\n",
            "60 :  ['Q', 'd', 'f', 'p', 'E', 'k']\n",
            "61 :  ['e', 'r', 'x', 'i', 'M', 'K']\n",
            "62 :  ['H', 'L', 'U', 'N', 't', 'z', 'm', 'l']\n",
            "63 :  ['V', 'A', 'Q', 'I', 'z', 'G', 'u']\n",
            "64 :  ['O', 'w', 'X', 'x', 'F', 'l', 'B']\n",
            "65 :  ['m', 'Q', 'N', 'b', 'R', 'w']\n",
            "66 :  ['l', 'Q', 'q', 'X', 'g', 'e', 'h']\n",
            "67 :  ['L', 'f', 'G', 'D', 'l', 't', 'y']\n",
            "68 :  ['Q', 'R', 'e', 'n', 'T', 'P']\n",
            "69 :  ['k', 'a', 'u', 'm', 'R', 'f', 'S', 'G']\n",
            "70 :  ['J', 'k', 'h', 'X', 'P', 'x']\n",
            "71 :  ['M', 'j', 'T', 'D', 'R', 'i', 'z', 'q']\n",
            "72 :  ['w', 'D', 's', 'm', 'S', 'e', 'h']\n",
            "73 :  ['z', 'g', 'K', 'm', 't', 'x', 'V']\n",
            "74 :  ['R', 'b', 'K', 'W', 'v', 'w']\n",
            "75 :  ['F', 'j', 'z', 'T', 'R', 'v']\n",
            "76 :  ['c', 'P', 'f', 'W', 'r', 'u', 'L', 's']\n",
            "77 :  ['B', 'Y', 'r', 'I', 'm', 'R', 'O', 'H']\n",
            "78 :  ['P', 'c', 'I', 'q', 'z', 'J', 'i', 'Y']\n",
            "79 :  ['d', 'k', 'u', 'x', 'A', 'H', 'M']\n",
            "80 :  ['r', 'N', 'M', 'K', 'x', 'w']\n",
            "81 :  ['z', 'a', 'S', 'F', 'K', 'P']\n",
            "82 :  ['U', 'q', 'c', 's', 'T', 'L']\n",
            "83 :  ['m', 'g', 'Y', 'M', 'v', 'N', 'u', 'K']\n",
            "84 :  ['R', 'm', 'L', 'K', 'F', 'k', 'x', 'N']\n",
            "85 :  ['m', 'A', 'y', 'w', 'X', 'Y', 'E']\n",
            "86 :  ['T', 'c', 'Q', 'i', 'P', 'q']\n",
            "87 :  ['z', 'p', 'U', 'M', 'l', 'C']\n",
            "88 :  ['A', 'd', 'W', 'g', 'a', 'c', 'k', 'S']\n",
            "89 :  ['y', 'j', 'W', 'm', 'N', 'b', 'l', 'u']\n",
            "90 :  ['x', 'D', 'k', 'L', 'z', 's']\n",
            "91 :  ['S', 'k', 'N', 'j', 'h', 'D', 'w']\n",
            "92 :  ['x', 'W', 'D', 'b', 'n', 'f']\n",
            "93 :  ['Z', 'm', 'q', 'c', 's', 'x']\n",
            "94 :  ['Z', 'V', 'k', 'c', 'O', 'z', 'n', 'T']\n",
            "95 :  ['Y', 'E', 'f', 'H', 's', 'h']\n",
            "96 :  ['H', 'X', 'g', 't', 'C', 'a', 'n', 'E']\n",
            "97 :  ['Z', 'G', 'q', 'd', 'k', 'g', 'e']\n",
            "98 :  ['f', 'Q', 'A', 'D', 'o', 'M', 'd', 'H']\n",
            "99 :  ['o', 'p', 'f', 'B', 's', 'n']\n",
            "100 :  ['U', 'e', 'Q', 'C', 'n', 'u', 'z', 'D']\n"
          ]
        }
      ]
    },
    {
      "cell_type": "code",
      "source": [
        "#print all prime numbers between 600 and 800\n",
        "def isPrime(n):\n",
        "  for i in range(2,n//2+1):\n",
        "    if(n%i==0):\n",
        "      return False\n",
        "  return True"
      ],
      "metadata": {
        "id": "z1ST-l0PmdF5"
      },
      "execution_count": 37,
      "outputs": []
    },
    {
      "cell_type": "code",
      "source": [
        "for i in range(600,801):\n",
        "  ans=isPrime(i)\n",
        "\n",
        "  if(ans):\n",
        "    print(i)"
      ],
      "metadata": {
        "collapsed": true,
        "id": "1CwJYDYLnblO",
        "outputId": "072cd014-1068-44b8-bfee-73fdaacc209c",
        "colab": {
          "base_uri": "https://localhost:8080/"
        }
      },
      "execution_count": 38,
      "outputs": [
        {
          "output_type": "stream",
          "name": "stdout",
          "text": [
            "601\n",
            "607\n",
            "613\n",
            "617\n",
            "619\n",
            "631\n",
            "641\n",
            "643\n",
            "647\n",
            "653\n",
            "659\n",
            "661\n",
            "673\n",
            "677\n",
            "683\n",
            "691\n",
            "701\n",
            "709\n",
            "719\n",
            "727\n",
            "733\n",
            "739\n",
            "743\n",
            "751\n",
            "757\n",
            "761\n",
            "769\n",
            "773\n",
            "787\n",
            "797\n"
          ]
        }
      ]
    },
    {
      "cell_type": "code",
      "source": [
        "#print all numbers between 100 and 1000 that are divisible by 7 and 9\n",
        "def isDiv(i):\n",
        "  if (i%7==0 , i%9==0):\n",
        "    return True\n",
        "  return False"
      ],
      "metadata": {
        "id": "kotmnR8pok8X"
      },
      "execution_count": 39,
      "outputs": []
    },
    {
      "cell_type": "code",
      "source": [
        "for i in range(100,1000):\n",
        "  if(isDiv(i)):\n",
        "    print(i)"
      ],
      "metadata": {
        "collapsed": true,
        "id": "XUm6w9YJpB31",
        "outputId": "d5dc52fc-9bc6-4682-bd21-0355e92cb63e",
        "colab": {
          "base_uri": "https://localhost:8080/"
        }
      },
      "execution_count": 40,
      "outputs": [
        {
          "output_type": "stream",
          "name": "stdout",
          "text": [
            "100\n",
            "101\n",
            "102\n",
            "103\n",
            "104\n",
            "105\n",
            "106\n",
            "107\n",
            "108\n",
            "109\n",
            "110\n",
            "111\n",
            "112\n",
            "113\n",
            "114\n",
            "115\n",
            "116\n",
            "117\n",
            "118\n",
            "119\n",
            "120\n",
            "121\n",
            "122\n",
            "123\n",
            "124\n",
            "125\n",
            "126\n",
            "127\n",
            "128\n",
            "129\n",
            "130\n",
            "131\n",
            "132\n",
            "133\n",
            "134\n",
            "135\n",
            "136\n",
            "137\n",
            "138\n",
            "139\n",
            "140\n",
            "141\n",
            "142\n",
            "143\n",
            "144\n",
            "145\n",
            "146\n",
            "147\n",
            "148\n",
            "149\n",
            "150\n",
            "151\n",
            "152\n",
            "153\n",
            "154\n",
            "155\n",
            "156\n",
            "157\n",
            "158\n",
            "159\n",
            "160\n",
            "161\n",
            "162\n",
            "163\n",
            "164\n",
            "165\n",
            "166\n",
            "167\n",
            "168\n",
            "169\n",
            "170\n",
            "171\n",
            "172\n",
            "173\n",
            "174\n",
            "175\n",
            "176\n",
            "177\n",
            "178\n",
            "179\n",
            "180\n",
            "181\n",
            "182\n",
            "183\n",
            "184\n",
            "185\n",
            "186\n",
            "187\n",
            "188\n",
            "189\n",
            "190\n",
            "191\n",
            "192\n",
            "193\n",
            "194\n",
            "195\n",
            "196\n",
            "197\n",
            "198\n",
            "199\n",
            "200\n",
            "201\n",
            "202\n",
            "203\n",
            "204\n",
            "205\n",
            "206\n",
            "207\n",
            "208\n",
            "209\n",
            "210\n",
            "211\n",
            "212\n",
            "213\n",
            "214\n",
            "215\n",
            "216\n",
            "217\n",
            "218\n",
            "219\n",
            "220\n",
            "221\n",
            "222\n",
            "223\n",
            "224\n",
            "225\n",
            "226\n",
            "227\n",
            "228\n",
            "229\n",
            "230\n",
            "231\n",
            "232\n",
            "233\n",
            "234\n",
            "235\n",
            "236\n",
            "237\n",
            "238\n",
            "239\n",
            "240\n",
            "241\n",
            "242\n",
            "243\n",
            "244\n",
            "245\n",
            "246\n",
            "247\n",
            "248\n",
            "249\n",
            "250\n",
            "251\n",
            "252\n",
            "253\n",
            "254\n",
            "255\n",
            "256\n",
            "257\n",
            "258\n",
            "259\n",
            "260\n",
            "261\n",
            "262\n",
            "263\n",
            "264\n",
            "265\n",
            "266\n",
            "267\n",
            "268\n",
            "269\n",
            "270\n",
            "271\n",
            "272\n",
            "273\n",
            "274\n",
            "275\n",
            "276\n",
            "277\n",
            "278\n",
            "279\n",
            "280\n",
            "281\n",
            "282\n",
            "283\n",
            "284\n",
            "285\n",
            "286\n",
            "287\n",
            "288\n",
            "289\n",
            "290\n",
            "291\n",
            "292\n",
            "293\n",
            "294\n",
            "295\n",
            "296\n",
            "297\n",
            "298\n",
            "299\n",
            "300\n",
            "301\n",
            "302\n",
            "303\n",
            "304\n",
            "305\n",
            "306\n",
            "307\n",
            "308\n",
            "309\n",
            "310\n",
            "311\n",
            "312\n",
            "313\n",
            "314\n",
            "315\n",
            "316\n",
            "317\n",
            "318\n",
            "319\n",
            "320\n",
            "321\n",
            "322\n",
            "323\n",
            "324\n",
            "325\n",
            "326\n",
            "327\n",
            "328\n",
            "329\n",
            "330\n",
            "331\n",
            "332\n",
            "333\n",
            "334\n",
            "335\n",
            "336\n",
            "337\n",
            "338\n",
            "339\n",
            "340\n",
            "341\n",
            "342\n",
            "343\n",
            "344\n",
            "345\n",
            "346\n",
            "347\n",
            "348\n",
            "349\n",
            "350\n",
            "351\n",
            "352\n",
            "353\n",
            "354\n",
            "355\n",
            "356\n",
            "357\n",
            "358\n",
            "359\n",
            "360\n",
            "361\n",
            "362\n",
            "363\n",
            "364\n",
            "365\n",
            "366\n",
            "367\n",
            "368\n",
            "369\n",
            "370\n",
            "371\n",
            "372\n",
            "373\n",
            "374\n",
            "375\n",
            "376\n",
            "377\n",
            "378\n",
            "379\n",
            "380\n",
            "381\n",
            "382\n",
            "383\n",
            "384\n",
            "385\n",
            "386\n",
            "387\n",
            "388\n",
            "389\n",
            "390\n",
            "391\n",
            "392\n",
            "393\n",
            "394\n",
            "395\n",
            "396\n",
            "397\n",
            "398\n",
            "399\n",
            "400\n",
            "401\n",
            "402\n",
            "403\n",
            "404\n",
            "405\n",
            "406\n",
            "407\n",
            "408\n",
            "409\n",
            "410\n",
            "411\n",
            "412\n",
            "413\n",
            "414\n",
            "415\n",
            "416\n",
            "417\n",
            "418\n",
            "419\n",
            "420\n",
            "421\n",
            "422\n",
            "423\n",
            "424\n",
            "425\n",
            "426\n",
            "427\n",
            "428\n",
            "429\n",
            "430\n",
            "431\n",
            "432\n",
            "433\n",
            "434\n",
            "435\n",
            "436\n",
            "437\n",
            "438\n",
            "439\n",
            "440\n",
            "441\n",
            "442\n",
            "443\n",
            "444\n",
            "445\n",
            "446\n",
            "447\n",
            "448\n",
            "449\n",
            "450\n",
            "451\n",
            "452\n",
            "453\n",
            "454\n",
            "455\n",
            "456\n",
            "457\n",
            "458\n",
            "459\n",
            "460\n",
            "461\n",
            "462\n",
            "463\n",
            "464\n",
            "465\n",
            "466\n",
            "467\n",
            "468\n",
            "469\n",
            "470\n",
            "471\n",
            "472\n",
            "473\n",
            "474\n",
            "475\n",
            "476\n",
            "477\n",
            "478\n",
            "479\n",
            "480\n",
            "481\n",
            "482\n",
            "483\n",
            "484\n",
            "485\n",
            "486\n",
            "487\n",
            "488\n",
            "489\n",
            "490\n",
            "491\n",
            "492\n",
            "493\n",
            "494\n",
            "495\n",
            "496\n",
            "497\n",
            "498\n",
            "499\n",
            "500\n",
            "501\n",
            "502\n",
            "503\n",
            "504\n",
            "505\n",
            "506\n",
            "507\n",
            "508\n",
            "509\n",
            "510\n",
            "511\n",
            "512\n",
            "513\n",
            "514\n",
            "515\n",
            "516\n",
            "517\n",
            "518\n",
            "519\n",
            "520\n",
            "521\n",
            "522\n",
            "523\n",
            "524\n",
            "525\n",
            "526\n",
            "527\n",
            "528\n",
            "529\n",
            "530\n",
            "531\n",
            "532\n",
            "533\n",
            "534\n",
            "535\n",
            "536\n",
            "537\n",
            "538\n",
            "539\n",
            "540\n",
            "541\n",
            "542\n",
            "543\n",
            "544\n",
            "545\n",
            "546\n",
            "547\n",
            "548\n",
            "549\n",
            "550\n",
            "551\n",
            "552\n",
            "553\n",
            "554\n",
            "555\n",
            "556\n",
            "557\n",
            "558\n",
            "559\n",
            "560\n",
            "561\n",
            "562\n",
            "563\n",
            "564\n",
            "565\n",
            "566\n",
            "567\n",
            "568\n",
            "569\n",
            "570\n",
            "571\n",
            "572\n",
            "573\n",
            "574\n",
            "575\n",
            "576\n",
            "577\n",
            "578\n",
            "579\n",
            "580\n",
            "581\n",
            "582\n",
            "583\n",
            "584\n",
            "585\n",
            "586\n",
            "587\n",
            "588\n",
            "589\n",
            "590\n",
            "591\n",
            "592\n",
            "593\n",
            "594\n",
            "595\n",
            "596\n",
            "597\n",
            "598\n",
            "599\n",
            "600\n",
            "601\n",
            "602\n",
            "603\n",
            "604\n",
            "605\n",
            "606\n",
            "607\n",
            "608\n",
            "609\n",
            "610\n",
            "611\n",
            "612\n",
            "613\n",
            "614\n",
            "615\n",
            "616\n",
            "617\n",
            "618\n",
            "619\n",
            "620\n",
            "621\n",
            "622\n",
            "623\n",
            "624\n",
            "625\n",
            "626\n",
            "627\n",
            "628\n",
            "629\n",
            "630\n",
            "631\n",
            "632\n",
            "633\n",
            "634\n",
            "635\n",
            "636\n",
            "637\n",
            "638\n",
            "639\n",
            "640\n",
            "641\n",
            "642\n",
            "643\n",
            "644\n",
            "645\n",
            "646\n",
            "647\n",
            "648\n",
            "649\n",
            "650\n",
            "651\n",
            "652\n",
            "653\n",
            "654\n",
            "655\n",
            "656\n",
            "657\n",
            "658\n",
            "659\n",
            "660\n",
            "661\n",
            "662\n",
            "663\n",
            "664\n",
            "665\n",
            "666\n",
            "667\n",
            "668\n",
            "669\n",
            "670\n",
            "671\n",
            "672\n",
            "673\n",
            "674\n",
            "675\n",
            "676\n",
            "677\n",
            "678\n",
            "679\n",
            "680\n",
            "681\n",
            "682\n",
            "683\n",
            "684\n",
            "685\n",
            "686\n",
            "687\n",
            "688\n",
            "689\n",
            "690\n",
            "691\n",
            "692\n",
            "693\n",
            "694\n",
            "695\n",
            "696\n",
            "697\n",
            "698\n",
            "699\n",
            "700\n",
            "701\n",
            "702\n",
            "703\n",
            "704\n",
            "705\n",
            "706\n",
            "707\n",
            "708\n",
            "709\n",
            "710\n",
            "711\n",
            "712\n",
            "713\n",
            "714\n",
            "715\n",
            "716\n",
            "717\n",
            "718\n",
            "719\n",
            "720\n",
            "721\n",
            "722\n",
            "723\n",
            "724\n",
            "725\n",
            "726\n",
            "727\n",
            "728\n",
            "729\n",
            "730\n",
            "731\n",
            "732\n",
            "733\n",
            "734\n",
            "735\n",
            "736\n",
            "737\n",
            "738\n",
            "739\n",
            "740\n",
            "741\n",
            "742\n",
            "743\n",
            "744\n",
            "745\n",
            "746\n",
            "747\n",
            "748\n",
            "749\n",
            "750\n",
            "751\n",
            "752\n",
            "753\n",
            "754\n",
            "755\n",
            "756\n",
            "757\n",
            "758\n",
            "759\n",
            "760\n",
            "761\n",
            "762\n",
            "763\n",
            "764\n",
            "765\n",
            "766\n",
            "767\n",
            "768\n",
            "769\n",
            "770\n",
            "771\n",
            "772\n",
            "773\n",
            "774\n",
            "775\n",
            "776\n",
            "777\n",
            "778\n",
            "779\n",
            "780\n",
            "781\n",
            "782\n",
            "783\n",
            "784\n",
            "785\n",
            "786\n",
            "787\n",
            "788\n",
            "789\n",
            "790\n",
            "791\n",
            "792\n",
            "793\n",
            "794\n",
            "795\n",
            "796\n",
            "797\n",
            "798\n",
            "799\n",
            "800\n",
            "801\n",
            "802\n",
            "803\n",
            "804\n",
            "805\n",
            "806\n",
            "807\n",
            "808\n",
            "809\n",
            "810\n",
            "811\n",
            "812\n",
            "813\n",
            "814\n",
            "815\n",
            "816\n",
            "817\n",
            "818\n",
            "819\n",
            "820\n",
            "821\n",
            "822\n",
            "823\n",
            "824\n",
            "825\n",
            "826\n",
            "827\n",
            "828\n",
            "829\n",
            "830\n",
            "831\n",
            "832\n",
            "833\n",
            "834\n",
            "835\n",
            "836\n",
            "837\n",
            "838\n",
            "839\n",
            "840\n",
            "841\n",
            "842\n",
            "843\n",
            "844\n",
            "845\n",
            "846\n",
            "847\n",
            "848\n",
            "849\n",
            "850\n",
            "851\n",
            "852\n",
            "853\n",
            "854\n",
            "855\n",
            "856\n",
            "857\n",
            "858\n",
            "859\n",
            "860\n",
            "861\n",
            "862\n",
            "863\n",
            "864\n",
            "865\n",
            "866\n",
            "867\n",
            "868\n",
            "869\n",
            "870\n",
            "871\n",
            "872\n",
            "873\n",
            "874\n",
            "875\n",
            "876\n",
            "877\n",
            "878\n",
            "879\n",
            "880\n",
            "881\n",
            "882\n",
            "883\n",
            "884\n",
            "885\n",
            "886\n",
            "887\n",
            "888\n",
            "889\n",
            "890\n",
            "891\n",
            "892\n",
            "893\n",
            "894\n",
            "895\n",
            "896\n",
            "897\n",
            "898\n",
            "899\n",
            "900\n",
            "901\n",
            "902\n",
            "903\n",
            "904\n",
            "905\n",
            "906\n",
            "907\n",
            "908\n",
            "909\n",
            "910\n",
            "911\n",
            "912\n",
            "913\n",
            "914\n",
            "915\n",
            "916\n",
            "917\n",
            "918\n",
            "919\n",
            "920\n",
            "921\n",
            "922\n",
            "923\n",
            "924\n",
            "925\n",
            "926\n",
            "927\n",
            "928\n",
            "929\n",
            "930\n",
            "931\n",
            "932\n",
            "933\n",
            "934\n",
            "935\n",
            "936\n",
            "937\n",
            "938\n",
            "939\n",
            "940\n",
            "941\n",
            "942\n",
            "943\n",
            "944\n",
            "945\n",
            "946\n",
            "947\n",
            "948\n",
            "949\n",
            "950\n",
            "951\n",
            "952\n",
            "953\n",
            "954\n",
            "955\n",
            "956\n",
            "957\n",
            "958\n",
            "959\n",
            "960\n",
            "961\n",
            "962\n",
            "963\n",
            "964\n",
            "965\n",
            "966\n",
            "967\n",
            "968\n",
            "969\n",
            "970\n",
            "971\n",
            "972\n",
            "973\n",
            "974\n",
            "975\n",
            "976\n",
            "977\n",
            "978\n",
            "979\n",
            "980\n",
            "981\n",
            "982\n",
            "983\n",
            "984\n",
            "985\n",
            "986\n",
            "987\n",
            "988\n",
            "989\n",
            "990\n",
            "991\n",
            "992\n",
            "993\n",
            "994\n",
            "995\n",
            "996\n",
            "997\n",
            "998\n",
            "999\n"
          ]
        }
      ]
    },
    {
      "cell_type": "markdown",
      "source": [
        "Q-5 to create two lists of 10 random numbers between 10 and 30"
      ],
      "metadata": {
        "id": "OagHoRgbp0V4"
      }
    },
    {
      "cell_type": "code",
      "source": [
        "import random as r"
      ],
      "metadata": {
        "id": "Qmh4SRUSp2zY"
      },
      "execution_count": 41,
      "outputs": []
    },
    {
      "cell_type": "code",
      "source": [
        "x = range(10,30)\n",
        "\n",
        "List1 = r.sample(x,10)\n",
        "List2 = r.sample(x,10)\n",
        "print(List1)\n",
        "print(List2)"
      ],
      "metadata": {
        "id": "EWCPXDOCqCvo",
        "outputId": "8fbe2cad-eb94-4522-9da1-be92921798a0",
        "colab": {
          "base_uri": "https://localhost:8080/"
        }
      },
      "execution_count": 42,
      "outputs": [
        {
          "output_type": "stream",
          "name": "stdout",
          "text": [
            "[24, 11, 12, 10, 18, 26, 29, 28, 23, 17]\n",
            "[25, 18, 29, 13, 22, 26, 11, 24, 12, 19]\n"
          ]
        }
      ]
    },
    {
      "cell_type": "code",
      "source": [
        "#Common numbers in the two lists\n",
        "A = set(List1)\n",
        "B = set(List2)\n",
        "print(\"common no, in both list\", A.union(B))"
      ],
      "metadata": {
        "id": "ZRlXAjWmrC-M",
        "outputId": "5b350b87-4360-43dd-f5d7-669b8f0e9b5e",
        "colab": {
          "base_uri": "https://localhost:8080/"
        }
      },
      "execution_count": 43,
      "outputs": [
        {
          "output_type": "stream",
          "name": "stdout",
          "text": [
            "common no, in both list {10, 11, 12, 13, 17, 18, 19, 22, 23, 24, 25, 26, 28, 29}\n"
          ]
        }
      ]
    },
    {
      "cell_type": "code",
      "source": [
        "#Unique numbers in both the list\n",
        "print(\"Unique number-->\", A.union(B)-A.intersection(B))\n"
      ],
      "metadata": {
        "id": "4Mcu3O1wrwlJ",
        "outputId": "0f1ea597-6cb4-49d1-cc12-95e270ccbdf3",
        "colab": {
          "base_uri": "https://localhost:8080/"
        }
      },
      "execution_count": 44,
      "outputs": [
        {
          "output_type": "stream",
          "name": "stdout",
          "text": [
            "Unique number--> {10, 13, 17, 19, 22, 23, 25, 28}\n"
          ]
        }
      ]
    },
    {
      "cell_type": "code",
      "source": [
        "#Minimum in both the list\n",
        "print(\"Minimun no. in lsit 1-->\", min(A))\n",
        "print(\"Minimun no. in lsit 1-->\", min(B))"
      ],
      "metadata": {
        "id": "vWxCR9yCr9K_",
        "outputId": "a4b98cde-4c87-4e53-d48f-d78165843852",
        "colab": {
          "base_uri": "https://localhost:8080/"
        }
      },
      "execution_count": 45,
      "outputs": [
        {
          "output_type": "stream",
          "name": "stdout",
          "text": [
            "Minimun no. in lsit 1--> 10\n",
            "Minimun no. in lsit 1--> 11\n"
          ]
        }
      ]
    },
    {
      "cell_type": "code",
      "source": [
        "#Maximum in both the list\n",
        "print(\"Maximum no. in lsit 1-->\", max(A))\n",
        "print(\"Maximum no. in lsit 1-->\", max(B))"
      ],
      "metadata": {
        "id": "ULZAKNpRscpa",
        "outputId": "65b24d6f-8985-4c1d-aa88-842c9f3c44fd",
        "colab": {
          "base_uri": "https://localhost:8080/"
        }
      },
      "execution_count": 46,
      "outputs": [
        {
          "output_type": "stream",
          "name": "stdout",
          "text": [
            "Maximum no. in lsit 1--> 29\n",
            "Maximum no. in lsit 1--> 29\n"
          ]
        }
      ]
    },
    {
      "cell_type": "code",
      "source": [
        "#Sum of both the lists\n",
        "\n",
        "print(\"sum on list1-->\", sum(A))\n",
        "print(\"sum on list1-->\", sum(B))\n",
        "print(\"sum of both the lists-->\", sum(A)+sum(B))"
      ],
      "metadata": {
        "id": "Jkle5oWJsqZt",
        "outputId": "2146af4f-d42e-4362-f14d-330100adb999",
        "colab": {
          "base_uri": "https://localhost:8080/"
        }
      },
      "execution_count": 47,
      "outputs": [
        {
          "output_type": "stream",
          "name": "stdout",
          "text": [
            "sum on list1--> 198\n",
            "sum on list1--> 199\n",
            "sum of both the lists--> 397\n"
          ]
        }
      ]
    },
    {
      "cell_type": "markdown",
      "source": [
        "Q-6 Create a list of 100 random numbers between 100 and 900"
      ],
      "metadata": {
        "id": "m7C0SBRxtO20"
      }
    },
    {
      "cell_type": "code",
      "source": [
        "import random as r"
      ],
      "metadata": {
        "id": "M4iD8shQtR7e"
      },
      "execution_count": 48,
      "outputs": []
    },
    {
      "cell_type": "code",
      "source": [
        "X = range(100,900)\n",
        "List = r.sample(X,100)\n",
        "print(\"List-->\", List)"
      ],
      "metadata": {
        "id": "b_0nPvbItYiu",
        "outputId": "c6726d67-8f18-42ba-edaf-ffdb70ebad2e",
        "colab": {
          "base_uri": "https://localhost:8080/"
        }
      },
      "execution_count": 49,
      "outputs": [
        {
          "output_type": "stream",
          "name": "stdout",
          "text": [
            "List--> [456, 732, 582, 130, 561, 547, 708, 232, 517, 756, 245, 822, 322, 234, 626, 392, 474, 663, 499, 419, 742, 613, 505, 399, 202, 288, 575, 746, 388, 889, 535, 371, 391, 596, 439, 394, 141, 877, 353, 471, 860, 666, 814, 113, 579, 591, 397, 447, 303, 373, 631, 143, 100, 110, 296, 881, 834, 403, 737, 123, 140, 261, 314, 275, 356, 531, 548, 336, 538, 540, 178, 326, 158, 159, 792, 629, 772, 363, 457, 861, 170, 595, 385, 269, 787, 788, 400, 412, 484, 463, 565, 209, 780, 427, 863, 833, 240, 525, 511, 782]\n"
          ]
        }
      ]
    },
    {
      "cell_type": "code",
      "source": [
        "#All odd numbers\n",
        "for i in List:\n",
        "    if(i%2!=0):\n",
        "      print(i)"
      ],
      "metadata": {
        "collapsed": true,
        "id": "sG-cevPMvFbq",
        "outputId": "6719ac32-d3a7-41bb-fda6-2519db7f5b38",
        "colab": {
          "base_uri": "https://localhost:8080/"
        }
      },
      "execution_count": 50,
      "outputs": [
        {
          "output_type": "stream",
          "name": "stdout",
          "text": [
            "561\n",
            "547\n",
            "517\n",
            "245\n",
            "663\n",
            "499\n",
            "419\n",
            "613\n",
            "505\n",
            "399\n",
            "575\n",
            "889\n",
            "535\n",
            "371\n",
            "391\n",
            "439\n",
            "141\n",
            "877\n",
            "353\n",
            "471\n",
            "113\n",
            "579\n",
            "591\n",
            "397\n",
            "447\n",
            "303\n",
            "373\n",
            "631\n",
            "143\n",
            "881\n",
            "403\n",
            "737\n",
            "123\n",
            "261\n",
            "275\n",
            "531\n",
            "159\n",
            "629\n",
            "363\n",
            "457\n",
            "861\n",
            "595\n",
            "385\n",
            "269\n",
            "787\n",
            "463\n",
            "565\n",
            "209\n",
            "427\n",
            "863\n",
            "833\n",
            "525\n",
            "511\n"
          ]
        }
      ]
    },
    {
      "cell_type": "code",
      "source": [
        "#All even numbers\n",
        "for i in List:\n",
        "    if(i%2==0):\n",
        "      print(i)"
      ],
      "metadata": {
        "collapsed": true,
        "id": "TZ8Z0Tipv04i",
        "outputId": "b08ab695-399a-426d-9276-27bd83969ab0",
        "colab": {
          "base_uri": "https://localhost:8080/"
        }
      },
      "execution_count": 51,
      "outputs": [
        {
          "output_type": "stream",
          "name": "stdout",
          "text": [
            "456\n",
            "732\n",
            "582\n",
            "130\n",
            "708\n",
            "232\n",
            "756\n",
            "822\n",
            "322\n",
            "234\n",
            "626\n",
            "392\n",
            "474\n",
            "742\n",
            "202\n",
            "288\n",
            "746\n",
            "388\n",
            "596\n",
            "394\n",
            "860\n",
            "666\n",
            "814\n",
            "100\n",
            "110\n",
            "296\n",
            "834\n",
            "140\n",
            "314\n",
            "356\n",
            "548\n",
            "336\n",
            "538\n",
            "540\n",
            "178\n",
            "326\n",
            "158\n",
            "792\n",
            "772\n",
            "170\n",
            "788\n",
            "400\n",
            "412\n",
            "484\n",
            "780\n",
            "240\n",
            "782\n"
          ]
        }
      ]
    },
    {
      "cell_type": "code",
      "source": [
        "#All prime numbers\n",
        "def isprime(n):\n",
        "  for i in List:\n",
        "    print(i)\n",
        "    for j in range(2,i//2+1):\n",
        "      if (i%j==0):\n",
        "        print(i)"
      ],
      "metadata": {
        "id": "tK9f64ALvFyK"
      },
      "execution_count": 52,
      "outputs": []
    },
    {
      "cell_type": "code",
      "source": [
        "isprime(List)\n",
        ""
      ],
      "metadata": {
        "id": "ae-S9vTI-P-t",
        "outputId": "7790ab78-d2be-4564-bf8c-c737142b758a",
        "colab": {
          "base_uri": "https://localhost:8080/"
        }
      },
      "execution_count": 53,
      "outputs": [
        {
          "output_type": "stream",
          "name": "stdout",
          "text": [
            "456\n",
            "456\n",
            "456\n",
            "456\n",
            "456\n",
            "456\n",
            "456\n",
            "456\n",
            "456\n",
            "456\n",
            "456\n",
            "456\n",
            "456\n",
            "456\n",
            "456\n",
            "732\n",
            "732\n",
            "732\n",
            "732\n",
            "732\n",
            "732\n",
            "732\n",
            "732\n",
            "732\n",
            "732\n",
            "732\n",
            "582\n",
            "582\n",
            "582\n",
            "582\n",
            "582\n",
            "582\n",
            "582\n",
            "130\n",
            "130\n",
            "130\n",
            "130\n",
            "130\n",
            "130\n",
            "130\n",
            "561\n",
            "561\n",
            "561\n",
            "561\n",
            "561\n",
            "561\n",
            "561\n",
            "547\n",
            "708\n",
            "708\n",
            "708\n",
            "708\n",
            "708\n",
            "708\n",
            "708\n",
            "708\n",
            "708\n",
            "708\n",
            "708\n",
            "232\n",
            "232\n",
            "232\n",
            "232\n",
            "232\n",
            "232\n",
            "232\n",
            "517\n",
            "517\n",
            "517\n",
            "756\n",
            "756\n",
            "756\n",
            "756\n",
            "756\n",
            "756\n",
            "756\n",
            "756\n",
            "756\n",
            "756\n",
            "756\n",
            "756\n",
            "756\n",
            "756\n",
            "756\n",
            "756\n",
            "756\n",
            "756\n",
            "756\n",
            "756\n",
            "756\n",
            "756\n",
            "756\n",
            "245\n",
            "245\n",
            "245\n",
            "245\n",
            "245\n",
            "822\n",
            "822\n",
            "822\n",
            "822\n",
            "822\n",
            "822\n",
            "822\n",
            "322\n",
            "322\n",
            "322\n",
            "322\n",
            "322\n",
            "322\n",
            "322\n",
            "234\n",
            "234\n",
            "234\n",
            "234\n",
            "234\n",
            "234\n",
            "234\n",
            "234\n",
            "234\n",
            "234\n",
            "234\n",
            "626\n",
            "626\n",
            "626\n",
            "392\n",
            "392\n",
            "392\n",
            "392\n",
            "392\n",
            "392\n",
            "392\n",
            "392\n",
            "392\n",
            "392\n",
            "392\n",
            "474\n",
            "474\n",
            "474\n",
            "474\n",
            "474\n",
            "474\n",
            "474\n",
            "663\n",
            "663\n",
            "663\n",
            "663\n",
            "663\n",
            "663\n",
            "663\n",
            "499\n",
            "419\n",
            "742\n",
            "742\n",
            "742\n",
            "742\n",
            "742\n",
            "742\n",
            "742\n",
            "613\n",
            "505\n",
            "505\n",
            "505\n",
            "399\n",
            "399\n",
            "399\n",
            "399\n",
            "399\n",
            "399\n",
            "399\n",
            "202\n",
            "202\n",
            "202\n",
            "288\n",
            "288\n",
            "288\n",
            "288\n",
            "288\n",
            "288\n",
            "288\n",
            "288\n",
            "288\n",
            "288\n",
            "288\n",
            "288\n",
            "288\n",
            "288\n",
            "288\n",
            "288\n",
            "288\n",
            "575\n",
            "575\n",
            "575\n",
            "575\n",
            "575\n",
            "746\n",
            "746\n",
            "746\n",
            "388\n",
            "388\n",
            "388\n",
            "388\n",
            "388\n",
            "889\n",
            "889\n",
            "889\n",
            "535\n",
            "535\n",
            "535\n",
            "371\n",
            "371\n",
            "371\n",
            "391\n",
            "391\n",
            "391\n",
            "596\n",
            "596\n",
            "596\n",
            "596\n",
            "596\n",
            "439\n",
            "394\n",
            "394\n",
            "394\n",
            "141\n",
            "141\n",
            "141\n",
            "877\n",
            "353\n",
            "471\n",
            "471\n",
            "471\n",
            "860\n",
            "860\n",
            "860\n",
            "860\n",
            "860\n",
            "860\n",
            "860\n",
            "860\n",
            "860\n",
            "860\n",
            "860\n",
            "666\n",
            "666\n",
            "666\n",
            "666\n",
            "666\n",
            "666\n",
            "666\n",
            "666\n",
            "666\n",
            "666\n",
            "666\n",
            "814\n",
            "814\n",
            "814\n",
            "814\n",
            "814\n",
            "814\n",
            "814\n",
            "113\n",
            "579\n",
            "579\n",
            "579\n",
            "591\n",
            "591\n",
            "591\n",
            "397\n",
            "447\n",
            "447\n",
            "447\n",
            "303\n",
            "303\n",
            "303\n",
            "373\n",
            "631\n",
            "143\n",
            "143\n",
            "143\n",
            "100\n",
            "100\n",
            "100\n",
            "100\n",
            "100\n",
            "100\n",
            "100\n",
            "100\n",
            "110\n",
            "110\n",
            "110\n",
            "110\n",
            "110\n",
            "110\n",
            "110\n",
            "296\n",
            "296\n",
            "296\n",
            "296\n",
            "296\n",
            "296\n",
            "296\n",
            "881\n",
            "834\n",
            "834\n",
            "834\n",
            "834\n",
            "834\n",
            "834\n",
            "834\n",
            "403\n",
            "403\n",
            "403\n",
            "737\n",
            "737\n",
            "737\n",
            "123\n",
            "123\n",
            "123\n",
            "140\n",
            "140\n",
            "140\n",
            "140\n",
            "140\n",
            "140\n",
            "140\n",
            "140\n",
            "140\n",
            "140\n",
            "140\n",
            "261\n",
            "261\n",
            "261\n",
            "261\n",
            "261\n",
            "314\n",
            "314\n",
            "314\n",
            "275\n",
            "275\n",
            "275\n",
            "275\n",
            "275\n",
            "356\n",
            "356\n",
            "356\n",
            "356\n",
            "356\n",
            "531\n",
            "531\n",
            "531\n",
            "531\n",
            "531\n",
            "548\n",
            "548\n",
            "548\n",
            "548\n",
            "548\n",
            "336\n",
            "336\n",
            "336\n",
            "336\n",
            "336\n",
            "336\n",
            "336\n",
            "336\n",
            "336\n",
            "336\n",
            "336\n",
            "336\n",
            "336\n",
            "336\n",
            "336\n",
            "336\n",
            "336\n",
            "336\n",
            "336\n",
            "538\n",
            "538\n",
            "538\n",
            "540\n",
            "540\n",
            "540\n",
            "540\n",
            "540\n",
            "540\n",
            "540\n",
            "540\n",
            "540\n",
            "540\n",
            "540\n",
            "540\n",
            "540\n",
            "540\n",
            "540\n",
            "540\n",
            "540\n",
            "540\n",
            "540\n",
            "540\n",
            "540\n",
            "540\n",
            "540\n",
            "178\n",
            "178\n",
            "178\n",
            "326\n",
            "326\n",
            "326\n",
            "158\n",
            "158\n",
            "158\n",
            "159\n",
            "159\n",
            "159\n",
            "792\n",
            "792\n",
            "792\n",
            "792\n",
            "792\n",
            "792\n",
            "792\n",
            "792\n",
            "792\n",
            "792\n",
            "792\n",
            "792\n",
            "792\n",
            "792\n",
            "792\n",
            "792\n",
            "792\n",
            "792\n",
            "792\n",
            "792\n",
            "792\n",
            "792\n",
            "792\n",
            "629\n",
            "629\n",
            "629\n",
            "772\n",
            "772\n",
            "772\n",
            "772\n",
            "772\n",
            "363\n",
            "363\n",
            "363\n",
            "363\n",
            "363\n",
            "457\n",
            "861\n",
            "861\n",
            "861\n",
            "861\n",
            "861\n",
            "861\n",
            "861\n",
            "170\n",
            "170\n",
            "170\n",
            "170\n",
            "170\n",
            "170\n",
            "170\n",
            "595\n",
            "595\n",
            "595\n",
            "595\n",
            "595\n",
            "595\n",
            "595\n",
            "385\n",
            "385\n",
            "385\n",
            "385\n",
            "385\n",
            "385\n",
            "385\n",
            "269\n",
            "787\n",
            "788\n",
            "788\n",
            "788\n",
            "788\n",
            "788\n",
            "400\n",
            "400\n",
            "400\n",
            "400\n",
            "400\n",
            "400\n",
            "400\n",
            "400\n",
            "400\n",
            "400\n",
            "400\n",
            "400\n",
            "400\n",
            "400\n",
            "412\n",
            "412\n",
            "412\n",
            "412\n",
            "412\n",
            "484\n",
            "484\n",
            "484\n",
            "484\n",
            "484\n",
            "484\n",
            "484\n",
            "484\n",
            "463\n",
            "565\n",
            "565\n",
            "565\n",
            "209\n",
            "209\n",
            "209\n",
            "780\n",
            "780\n",
            "780\n",
            "780\n",
            "780\n",
            "780\n",
            "780\n",
            "780\n",
            "780\n",
            "780\n",
            "780\n",
            "780\n",
            "780\n",
            "780\n",
            "780\n",
            "780\n",
            "780\n",
            "780\n",
            "780\n",
            "780\n",
            "780\n",
            "780\n",
            "780\n",
            "427\n",
            "427\n",
            "427\n",
            "863\n",
            "833\n",
            "833\n",
            "833\n",
            "833\n",
            "833\n",
            "240\n",
            "240\n",
            "240\n",
            "240\n",
            "240\n",
            "240\n",
            "240\n",
            "240\n",
            "240\n",
            "240\n",
            "240\n",
            "240\n",
            "240\n",
            "240\n",
            "240\n",
            "240\n",
            "240\n",
            "240\n",
            "240\n",
            "525\n",
            "525\n",
            "525\n",
            "525\n",
            "525\n",
            "525\n",
            "525\n",
            "525\n",
            "525\n",
            "525\n",
            "525\n",
            "511\n",
            "511\n",
            "511\n",
            "782\n",
            "782\n",
            "782\n",
            "782\n",
            "782\n",
            "782\n",
            "782\n"
          ]
        }
      ]
    },
    {
      "cell_type": "markdown",
      "source": [
        "Q-7"
      ],
      "metadata": {
        "id": "PMdSokjQ7ajL"
      }
    },
    {
      "cell_type": "code",
      "source": [
        "D={1:'One',2:'Two',3:'Three',4:'Four', 5:'Five'}"
      ],
      "metadata": {
        "id": "CnfQs9t87Esq"
      },
      "execution_count": 54,
      "outputs": []
    },
    {
      "cell_type": "code",
      "source": [
        "for i in D:\n",
        "  print(\"key-->\",i,\"Value-->\",D[i])"
      ],
      "metadata": {
        "id": "eRn9NTHw8YLd",
        "outputId": "260342ab-aabe-4d5f-c714-3067521cc0e9",
        "colab": {
          "base_uri": "https://localhost:8080/"
        }
      },
      "execution_count": 55,
      "outputs": [
        {
          "output_type": "stream",
          "name": "stdout",
          "text": [
            "key--> 1 Value--> One\n",
            "key--> 2 Value--> Two\n",
            "key--> 3 Value--> Three\n",
            "key--> 4 Value--> Four\n",
            "key--> 5 Value--> Five\n"
          ]
        }
      ]
    },
    {
      "cell_type": "markdown",
      "source": [
        "Q-8"
      ],
      "metadata": {
        "id": "DQcQl7l8I__F"
      }
    },
    {
      "cell_type": "code",
      "source": [
        "L = {\"One\",\"Two\",\"Three\",\"Four\",\"Five\"}\n",
        "for i in L:\n",
        "  z = len(i)\n",
        "  print(i,\"length-->\", z)"
      ],
      "metadata": {
        "id": "EvfgLbhDIm8i",
        "outputId": "9521319d-98b9-4cf8-8121-c7c15905c2ff",
        "colab": {
          "base_uri": "https://localhost:8080/"
        }
      },
      "execution_count": 56,
      "outputs": [
        {
          "output_type": "stream",
          "name": "stdout",
          "text": [
            "Three length--> 5\n",
            "One length--> 3\n",
            "Five length--> 4\n",
            "Two length--> 3\n",
            "Four length--> 4\n"
          ]
        }
      ]
    },
    {
      "cell_type": "markdown",
      "source": [
        "Q-9 100 random strings whose length between 10 and 15"
      ],
      "metadata": {
        "id": "nKOiBAplKA5w"
      }
    },
    {
      "cell_type": "code",
      "source": [
        "import string as s\n",
        "import random as r"
      ],
      "metadata": {
        "id": "jECvXFEHKC4y"
      },
      "execution_count": 57,
      "outputs": []
    },
    {
      "cell_type": "code",
      "source": [
        "i = 0\n",
        "while (i<100):\n",
        "  i = i + 1\n",
        "  rand = r.sample(s.ascii_letters, 15)\n",
        "  print(\"random-->\",i, rand)\n",
        "  rand1 = ''.join(rand)\n",
        "  print(rand1)"
      ],
      "metadata": {
        "id": "r9fGExWZKI7b",
        "outputId": "1f167c65-0587-454b-ef41-a4674dacf78b",
        "colab": {
          "base_uri": "https://localhost:8080/"
        }
      },
      "execution_count": 58,
      "outputs": [
        {
          "output_type": "stream",
          "name": "stdout",
          "text": [
            "random--> 1 ['M', 'x', 'u', 'i', 'z', 't', 'W', 'k', 'Y', 'p', 'C', 'O', 'q', 'y', 'R']\n",
            "MxuiztWkYpCOqyR\n",
            "random--> 2 ['m', 'j', 'W', 'R', 'n', 'G', 'z', 'S', 'K', 'L', 'Z', 'M', 'e', 'i', 's']\n",
            "mjWRnGzSKLZMeis\n",
            "random--> 3 ['S', 'r', 'f', 'F', 'X', 'g', 'q', 'j', 'K', 'R', 'n', 'W', 'P', 'O', 'e']\n",
            "SrfFXgqjKRnWPOe\n",
            "random--> 4 ['U', 'F', 'Z', 'w', 'u', 'v', 'k', 'V', 'E', 'A', 'D', 'y', 'x', 'f', 's']\n",
            "UFZwuvkVEADyxfs\n",
            "random--> 5 ['T', 'Q', 'k', 'R', 'j', 'z', 'I', 'S', 'L', 'p', 't', 'e', 'd', 'w', 'c']\n",
            "TQkRjzISLptedwc\n",
            "random--> 6 ['l', 'T', 'A', 'Z', 'n', 'K', 'C', 'Y', 'v', 'S', 'u', 'U', 'Q', 'k', 'h']\n",
            "lTAZnKCYvSuUQkh\n",
            "random--> 7 ['B', 'i', 'w', 'n', 'v', 't', 'Z', 'R', 'C', 'M', 'm', 'I', 'p', 'q', 'l']\n",
            "BiwnvtZRCMmIpql\n",
            "random--> 8 ['j', 'c', 's', 'n', 'D', 'z', 'P', 'L', 'l', 'Y', 'e', 'b', 'T', 'r', 'K']\n",
            "jcsnDzPLlYebTrK\n",
            "random--> 9 ['H', 'j', 'E', 'x', 'l', 'a', 'w', 'b', 'c', 'B', 'f', 'J', 'h', 'i', 'e']\n",
            "HjExlawbcBfJhie\n",
            "random--> 10 ['P', 'T', 'd', 'X', 'R', 'A', 'r', 'J', 'g', 'W', 'L', 'n', 'e', 't', 'w']\n",
            "PTdXRArJgWLnetw\n",
            "random--> 11 ['p', 'Q', 'o', 'G', 'u', 'A', 'C', 'd', 'k', 'W', 'K', 'B', 'X', 'M', 'h']\n",
            "pQoGuACdkWKBXMh\n",
            "random--> 12 ['o', 'f', 'Q', 'P', 'Z', 'i', 'b', 'X', 'K', 'l', 'h', 'j', 'E', 't', 'R']\n",
            "ofQPZibXKlhjEtR\n",
            "random--> 13 ['S', 'b', 'C', 'M', 'F', 'X', 'A', 'I', 'L', 'c', 'U', 'B', 'f', 'q', 'V']\n",
            "SbCMFXAILcUBfqV\n",
            "random--> 14 ['T', 'K', 'b', 'W', 'j', 'a', 'l', 'p', 'w', 'D', 'g', 'H', 'B', 'N', 'E']\n",
            "TKbWjalpwDgHBNE\n",
            "random--> 15 ['K', 'H', 'D', 'w', 'T', 'a', 'S', 'p', 'E', 'g', 'u', 'c', 'Q', 'W', 'N']\n",
            "KHDwTaSpEgucQWN\n",
            "random--> 16 ['d', 'G', 'f', 'w', 'I', 'F', 'V', 'K', 'i', 'R', 'M', 'W', 'N', 'p', 'v']\n",
            "dGfwIFVKiRMWNpv\n",
            "random--> 17 ['m', 'R', 'Z', 'h', 'b', 'x', 'r', 'W', 'v', 'B', 'G', 'y', 'T', 'd', 'w']\n",
            "mRZhbxrWvBGyTdw\n",
            "random--> 18 ['W', 'I', 'L', 'H', 'r', 'B', 'g', 'O', 'F', 'U', 'T', 'J', 's', 'l', 'G']\n",
            "WILHrBgOFUTJslG\n",
            "random--> 19 ['a', 'C', 'o', 'n', 'w', 'd', 'N', 't', 'Z', 'r', 'k', 'c', 'V', 'K', 'P']\n",
            "aConwdNtZrkcVKP\n",
            "random--> 20 ['z', 'J', 'v', 'q', 'l', 'C', 't', 'Y', 'I', 'N', 'E', 'a', 'K', 'U', 'H']\n",
            "zJvqlCtYINEaKUH\n",
            "random--> 21 ['k', 'b', 'l', 'U', 'x', 'D', 'V', 's', 'n', 'r', 'f', 'o', 'O', 'I', 'N']\n",
            "kblUxDVsnrfoOIN\n",
            "random--> 22 ['b', 'K', 'm', 'B', 'u', 'i', 'j', 'q', 'J', 'L', 'n', 'y', 'k', 'Y', 'z']\n",
            "bKmBuijqJLnykYz\n",
            "random--> 23 ['o', 'Q', 'T', 'l', 'u', 'O', 'p', 'F', 'M', 'k', 'x', 'J', 'f', 'i', 'j']\n",
            "oQTluOpFMkxJfij\n",
            "random--> 24 ['X', 'z', 'r', 'o', 'v', 'G', 'q', 'C', 's', 'O', 'f', 'x', 'S', 'e', 'n']\n",
            "XzrovGqCsOfxSen\n",
            "random--> 25 ['E', 'V', 'F', 'X', 'T', 'e', 'm', 'W', 'G', 'p', 'w', 'z', 'j', 'y', 't']\n",
            "EVFXTemWGpwzjyt\n",
            "random--> 26 ['g', 'F', 'L', 'D', 'X', 'r', 'C', 'H', 'P', 'n', 'o', 'i', 'c', 'x', 'T']\n",
            "gFLDXrCHPnoicxT\n",
            "random--> 27 ['P', 'Y', 'E', 'o', 's', 'q', 'G', 'u', 'x', 'D', 'w', 'z', 'R', 'U', 'a']\n",
            "PYEosqGuxDwzRUa\n",
            "random--> 28 ['Q', 'y', 'L', 'l', 'E', 'U', 'K', 'o', 'h', 'N', 'q', 'x', 'P', 'k', 'w']\n",
            "QyLlEUKohNqxPkw\n",
            "random--> 29 ['F', 'e', 'M', 'm', 'j', 'q', 'V', 'h', 'J', 'd', 'f', 'p', 'O', 'H', 'k']\n",
            "FeMmjqVhJdfpOHk\n",
            "random--> 30 ['P', 'W', 'm', 'G', 'A', 'L', 'T', 'w', 'K', 'C', 'z', 'n', 'r', 'u', 'h']\n",
            "PWmGALTwKCznruh\n",
            "random--> 31 ['R', 'c', 'o', 'B', 'A', 'J', 'T', 'H', 'D', 'v', 'u', 'f', 'k', 'W', 'U']\n",
            "RcoBAJTHDvufkWU\n",
            "random--> 32 ['t', 'f', 'M', 'T', 'i', 'U', 'K', 'A', 'v', 'L', 'e', 'C', 's', 'u', 'G']\n",
            "tfMTiUKAvLeCsuG\n",
            "random--> 33 ['H', 'Y', 'Z', 'F', 'M', 'b', 'q', 'v', 'K', 'B', 'R', 'C', 'k', 'T', 'V']\n",
            "HYZFMbqvKBRCkTV\n",
            "random--> 34 ['h', 'B', 'd', 'M', 'D', 'm', 'H', 'z', 'K', 'v', 'a', 'o', 'w', 'G', 'Q']\n",
            "hBdMDmHzKvaowGQ\n",
            "random--> 35 ['J', 'z', 'r', 'T', 's', 'c', 'S', 'I', 'C', 'R', 'U', 'n', 'L', 'G', 'E']\n",
            "JzrTscSICRUnLGE\n",
            "random--> 36 ['j', 'w', 'A', 'e', 'X', 'H', 'z', 'x', 'f', 'P', 'S', 'Y', 'k', 'b', 'n']\n",
            "jwAeXHzxfPSYkbn\n",
            "random--> 37 ['C', 'A', 'G', 'T', 't', 'f', 'i', 'K', 'U', 'L', 'Q', 'o', 'l', 'n', 'D']\n",
            "CAGTtfiKULQolnD\n",
            "random--> 38 ['J', 'h', 'T', 'M', 'F', 'V', 'W', 'H', 's', 'w', 'l', 'z', 'y', 'I', 'b']\n",
            "JhTMFVWHswlzyIb\n",
            "random--> 39 ['o', 'F', 'm', 't', 'u', 's', 'A', 'X', 'C', 'l', 'Y', 'W', 'S', 'p', 'b']\n",
            "oFmtusAXClYWSpb\n",
            "random--> 40 ['q', 'G', 'e', 'F', 'J', 'Z', 'h', 'R', 'X', 'W', 'o', 'g', 'p', 'a', 'z']\n",
            "qGeFJZhRXWogpaz\n",
            "random--> 41 ['b', 'M', 'O', 'V', 'I', 'e', 'm', 'o', 'T', 'w', 'G', 'C', 'z', 'k', 'i']\n",
            "bMOVIemoTwGCzki\n",
            "random--> 42 ['O', 'k', 'A', 'L', 'c', 'r', 'e', 'z', 'b', 'n', 'y', 'V', 'F', 'W', 'U']\n",
            "OkALcrezbnyVFWU\n",
            "random--> 43 ['P', 'r', 'J', 'V', 'G', 'D', 'U', 'n', 'o', 'S', 'L', 'p', 'Y', 'E', 'x']\n",
            "PrJVGDUnoSLpYEx\n",
            "random--> 44 ['f', 'X', 'A', 'j', 'V', 'e', 'O', 'm', 'k', 'w', 'P', 'S', 't', 'r', 'y']\n",
            "fXAjVeOmkwPStry\n",
            "random--> 45 ['y', 'p', 'U', 'F', 'G', 'e', 's', 'x', 'z', 't', 'Y', 'b', 'C', 'q', 'K']\n",
            "ypUFGesxztYbCqK\n",
            "random--> 46 ['A', 'd', 's', 'H', 'a', 'l', 'B', 'h', 'T', 'w', 'v', 'I', 'u', 'e', 'q']\n",
            "AdsHalBhTwvIueq\n",
            "random--> 47 ['t', 'v', 'V', 'M', 'n', 'U', 'L', 'S', 'H', 'I', 'y', 'Q', 'f', 'K', 'm']\n",
            "tvVMnULSHIyQfKm\n",
            "random--> 48 ['T', 'V', 'S', 'b', 'O', 'g', 'f', 'K', 'Q', 'E', 'G', 'q', 'u', 'y', 's']\n",
            "TVSbOgfKQEGquys\n",
            "random--> 49 ['M', 'd', 'J', 't', 'G', 'B', 'Y', 'q', 's', 'k', 'E', 'T', 'L', 'Z', 'b']\n",
            "MdJtGBYqskETLZb\n",
            "random--> 50 ['l', 'g', 't', 'U', 'r', 'q', 'P', 'h', 'E', 'T', 'W', 'j', 'x', 'O', 'B']\n",
            "lgtUrqPhETWjxOB\n",
            "random--> 51 ['G', 'L', 'r', 'J', 'S', 'T', 'P', 'h', 'U', 'q', 'v', 'j', 'b', 'W', 'u']\n",
            "GLrJSTPhUqvjbWu\n",
            "random--> 52 ['N', 'H', 'V', 'J', 'T', 'l', 'z', 'q', 'U', 'j', 'D', 'B', 'v', 'i', 'C']\n",
            "NHVJTlzqUjDBviC\n",
            "random--> 53 ['s', 'A', 'j', 'd', 'T', 'F', 'N', 'i', 't', 'n', 'Y', 'x', 'S', 'C', 'g']\n",
            "sAjdTFNitnYxSCg\n",
            "random--> 54 ['d', 'q', 'o', 'p', 'f', 'M', 'R', 'j', 's', 'X', 'E', 'T', 'w', 'Q', 'n']\n",
            "dqopfMRjsXETwQn\n",
            "random--> 55 ['W', 'A', 'Z', 'R', 'x', 'L', 'c', 'o', 'J', 't', 'F', 'H', 'S', 'C', 'h']\n",
            "WAZRxLcoJtFHSCh\n",
            "random--> 56 ['p', 'F', 'Z', 'h', 'G', 'm', 'W', 'L', 'x', 'T', 'd', 'j', 'R', 't', 'M']\n",
            "pFZhGmWLxTdjRtM\n",
            "random--> 57 ['P', 'E', 'N', 'R', 'u', 'O', 'C', 'V', 'o', 'x', 'y', 'Q', 'b', 'n', 'S']\n",
            "PENRuOCVoxyQbnS\n",
            "random--> 58 ['B', 'w', 'q', 'J', 'I', 'Z', 'V', 'N', 'R', 'W', 'H', 'E', 'X', 'S', 'A']\n",
            "BwqJIZVNRWHEXSA\n",
            "random--> 59 ['i', 'Q', 's', 'H', 'u', 'y', 'z', 'n', 'r', 'Y', 'A', 'O', 'R', 'd', 'W']\n",
            "iQsHuyznrYAORdW\n",
            "random--> 60 ['w', 'D', 'g', 'R', 'f', 'q', 'E', 'F', 'l', 'j', 'o', 'S', 't', 'O', 'h']\n",
            "wDgRfqEFljoStOh\n",
            "random--> 61 ['Z', 'f', 'A', 'I', 'K', 'z', 'w', 'N', 'b', 'B', 'v', 'u', 'p', 'L', 'G']\n",
            "ZfAIKzwNbBvupLG\n",
            "random--> 62 ['d', 'E', 'X', 'z', 'K', 'w', 'l', 'e', 'q', 'U', 'n', 'M', 't', 'Q', 'm']\n",
            "dEXzKwleqUnMtQm\n",
            "random--> 63 ['v', 'p', 'K', 'J', 'U', 'V', 'M', 'd', 'g', 'A', 'X', 'G', 'm', 'h', 'W']\n",
            "vpKJUVMdgAXGmhW\n",
            "random--> 64 ['H', 't', 'w', 'r', 'W', 'x', 'J', 'V', 'p', 'g', 'A', 'l', 'Y', 'Q', 'C']\n",
            "HtwrWxJVpgAlYQC\n",
            "random--> 65 ['C', 'r', 'h', 'P', 'B', 'O', 'x', 'o', 'z', 'a', 'H', 'b', 'e', 'p', 'Y']\n",
            "CrhPBOxozaHbepY\n",
            "random--> 66 ['s', 'P', 'w', 'K', 'v', 'h', 'c', 'j', 'o', 'r', 'Z', 'p', 'H', 'C', 'N']\n",
            "sPwKvhcjorZpHCN\n",
            "random--> 67 ['J', 'S', 'O', 'v', 'A', 'B', 'P', 'k', 'z', 'l', 'n', 'M', 'm', 'y', 'b']\n",
            "JSOvABPkzlnMmyb\n",
            "random--> 68 ['c', 'r', 'N', 'w', 'B', 'u', 'G', 'M', 'I', 'K', 'v', 'n', 'X', 'Y', 'C']\n",
            "crNwBuGMIKvnXYC\n",
            "random--> 69 ['y', 'd', 'q', 'E', 'M', 'B', 'K', 'P', 'N', 'C', 'F', 's', 'o', 'J', 'x']\n",
            "ydqEMBKPNCFsoJx\n",
            "random--> 70 ['z', 'S', 'i', 'n', 'Z', 'g', 'r', 'A', 'a', 'y', 'G', 'J', 'N', 'W', 'C']\n",
            "zSinZgrAayGJNWC\n",
            "random--> 71 ['u', 'h', 'M', 'o', 'X', 'R', 'G', 'Z', 'p', 'V', 'Y', 'j', 'z', 'l', 's']\n",
            "uhMoXRGZpVYjzls\n",
            "random--> 72 ['k', 'B', 'j', 'i', 'T', 'H', 'x', 'u', 'Z', 'r', 'e', 'J', 'I', 'z', 'b']\n",
            "kBjiTHxuZreJIzb\n",
            "random--> 73 ['I', 'i', 'm', 'k', 'r', 'j', 'B', 'n', 'u', 'E', 'R', 'p', 'x', 'f', 'D']\n",
            "IimkrjBnuERpxfD\n",
            "random--> 74 ['H', 'P', 'n', 'i', 'w', 'W', 'g', 'L', 'M', 'u', 'Y', 'c', 'p', 'd', 'm']\n",
            "HPniwWgLMuYcpdm\n",
            "random--> 75 ['V', 'F', 'Z', 'c', 'D', 'Y', 'o', 'q', 't', 'b', 'G', 'd', 'Q', 'T', 'u']\n",
            "VFZcDYoqtbGdQTu\n",
            "random--> 76 ['W', 'N', 'D', 'L', 'b', 'Q', 'G', 'E', 'j', 'O', 'F', 'I', 'y', 'A', 'Z']\n",
            "WNDLbQGEjOFIyAZ\n",
            "random--> 77 ['C', 'T', 'I', 'R', 'r', 'y', 'o', 'A', 'G', 'Q', 'F', 'L', 'Z', 'k', 'w']\n",
            "CTIRryoAGQFLZkw\n",
            "random--> 78 ['t', 'g', 'N', 'O', 'a', 'z', 'V', 'I', 'Q', 'C', 'c', 'n', 'i', 'v', 'w']\n",
            "tgNOazVIQCcnivw\n",
            "random--> 79 ['t', 's', 'e', 'G', 'd', 'P', 'J', 'K', 'p', 'V', 'w', 'c', 'a', 'H', 'L']\n",
            "tseGdPJKpVwcaHL\n",
            "random--> 80 ['P', 'u', 'L', 'C', 'v', 'd', 'I', 'D', 'f', 'q', 'g', 'c', 'y', 'G', 'r']\n",
            "PuLCvdIDfqgcyGr\n",
            "random--> 81 ['s', 'V', 'n', 'f', 'm', 'E', 'D', 'i', 'P', 'G', 'h', 'p', 'I', 'b', 'U']\n",
            "sVnfmEDiPGhpIbU\n",
            "random--> 82 ['z', 'j', 'E', 'R', 'l', 'N', 'V', 'A', 't', 'q', 'y', 'Z', 'p', 'n', 'S']\n",
            "zjERlNVAtqyZpnS\n",
            "random--> 83 ['V', 'd', 'h', 'C', 'b', 'y', 'a', 'i', 'p', 'F', 'P', 'j', 'A', 'n', 'u']\n",
            "VdhCbyaipFPjAnu\n",
            "random--> 84 ['z', 'M', 'W', 'a', 'n', 's', 'w', 'r', 'k', 'b', 'u', 'U', 'Y', 'C', 'l']\n",
            "zMWanswrkbuUYCl\n",
            "random--> 85 ['o', 'F', 'H', 's', 'M', 'i', 'V', 'e', 'f', 'J', 'Y', 'z', 'U', 'L', 'w']\n",
            "oFHsMiVefJYzULw\n",
            "random--> 86 ['o', 'g', 'F', 'q', 'r', 'G', 'M', 'N', 'R', 'u', 'T', 'I', 'D', 'w', 'Y']\n",
            "ogFqrGMNRuTIDwY\n",
            "random--> 87 ['W', 'v', 'V', 'o', 'n', 'D', 'H', 'h', 'j', 'U', 'E', 'N', 'y', 'Q', 'X']\n",
            "WvVonDHhjUENyQX\n",
            "random--> 88 ['g', 'B', 'L', 'I', 'd', 'h', 'N', 'o', 'J', 'q', 'Z', 'F', 'T', 'm', 'x']\n",
            "gBLIdhNoJqZFTmx\n",
            "random--> 89 ['C', 'H', 'e', 'u', 'L', 'O', 'r', 'V', 'j', 'w', 'M', 'Y', 'v', 'g', 'B']\n",
            "CHeuLOrVjwMYvgB\n",
            "random--> 90 ['v', 'X', 'e', 'O', 'K', 'C', 'i', 'T', 'z', 'g', 'w', 'G', 'S', 'A', 'd']\n",
            "vXeOKCiTzgwGSAd\n",
            "random--> 91 ['R', 'l', 'V', 'a', 'e', 'K', 'i', 'z', 'C', 'H', 'h', 'p', 'u', 'S', 'r']\n",
            "RlVaeKizCHhpuSr\n",
            "random--> 92 ['l', 'V', 'W', 't', 'f', 'n', 'e', 'E', 'U', 'X', 'u', 'F', 'a', 'k', 'g']\n",
            "lVWtfneEUXuFakg\n",
            "random--> 93 ['t', 'X', 'G', 'h', 'u', 'j', 'b', 'H', 'w', 'n', 'L', 'c', 'g', 'e', 'k']\n",
            "tXGhujbHwnLcgek\n",
            "random--> 94 ['k', 'R', 'c', 'w', 'W', 'X', 'P', 'U', 'K', 'C', 'H', 'I', 'l', 'q', 'F']\n",
            "kRcwWXPUKCHIlqF\n",
            "random--> 95 ['f', 's', 'N', 'B', 'I', 'o', 'q', 'P', 'j', 'F', 'K', 'l', 'Z', 'w', 'i']\n",
            "fsNBIoqPjFKlZwi\n",
            "random--> 96 ['H', 'd', 'X', 'P', 'F', 'R', 'E', 'Q', 'O', 'p', 'q', 't', 'J', 'Y', 'l']\n",
            "HdXPFREQOpqtJYl\n",
            "random--> 97 ['T', 'z', 'c', 'W', 'j', 'C', 'M', 'O', 'Z', 'b', 'P', 'S', 'L', 'o', 'h']\n",
            "TzcWjCMOZbPSLoh\n",
            "random--> 98 ['A', 'O', 'r', 'R', 'p', 'Q', 'M', 'i', 'q', 'k', 'W', 'I', 'H', 'v', 'Y']\n",
            "AOrRpQMiqkWIHvY\n",
            "random--> 99 ['y', 'd', 'N', 'm', 'B', 'x', 'v', 'b', 'W', 'M', 'Z', 'a', 'r', 's', 'c']\n",
            "ydNmBxvbWMZarsc\n",
            "random--> 100 ['w', 'f', 'i', 'B', 'v', 't', 'b', 'S', 'H', 'U', 'K', 'Z', 'R', 'I', 'T']\n",
            "wfiBvtbSHUKZRIT\n"
          ]
        }
      ]
    },
    {
      "cell_type": "markdown",
      "source": [
        "Q-10  all prime numbers between 600 and 800"
      ],
      "metadata": {
        "id": "m3TulaYfSaOY"
      }
    },
    {
      "cell_type": "code",
      "source": [
        "def isprime(n):\n",
        "  for i in range(2,n//2+1):\n",
        "    if n%i==0 :\n",
        "       return False\n",
        "    return True"
      ],
      "metadata": {
        "id": "H-_riHwOScws"
      },
      "execution_count": 59,
      "outputs": []
    },
    {
      "cell_type": "code",
      "source": [
        "for i in range(600,800):\n",
        "  print(\"prime number\",i,\"-->\",isprime(i))\n"
      ],
      "metadata": {
        "id": "p46Yh8UrS8TZ",
        "outputId": "81385173-ca89-4797-cf3a-8d928f8b1556",
        "colab": {
          "base_uri": "https://localhost:8080/"
        }
      },
      "execution_count": 60,
      "outputs": [
        {
          "output_type": "stream",
          "name": "stdout",
          "text": [
            "prime number 600 --> False\n",
            "prime number 601 --> True\n",
            "prime number 602 --> False\n",
            "prime number 603 --> True\n",
            "prime number 604 --> False\n",
            "prime number 605 --> True\n",
            "prime number 606 --> False\n",
            "prime number 607 --> True\n",
            "prime number 608 --> False\n",
            "prime number 609 --> True\n",
            "prime number 610 --> False\n",
            "prime number 611 --> True\n",
            "prime number 612 --> False\n",
            "prime number 613 --> True\n",
            "prime number 614 --> False\n",
            "prime number 615 --> True\n",
            "prime number 616 --> False\n",
            "prime number 617 --> True\n",
            "prime number 618 --> False\n",
            "prime number 619 --> True\n",
            "prime number 620 --> False\n",
            "prime number 621 --> True\n",
            "prime number 622 --> False\n",
            "prime number 623 --> True\n",
            "prime number 624 --> False\n",
            "prime number 625 --> True\n",
            "prime number 626 --> False\n",
            "prime number 627 --> True\n",
            "prime number 628 --> False\n",
            "prime number 629 --> True\n",
            "prime number 630 --> False\n",
            "prime number 631 --> True\n",
            "prime number 632 --> False\n",
            "prime number 633 --> True\n",
            "prime number 634 --> False\n",
            "prime number 635 --> True\n",
            "prime number 636 --> False\n",
            "prime number 637 --> True\n",
            "prime number 638 --> False\n",
            "prime number 639 --> True\n",
            "prime number 640 --> False\n",
            "prime number 641 --> True\n",
            "prime number 642 --> False\n",
            "prime number 643 --> True\n",
            "prime number 644 --> False\n",
            "prime number 645 --> True\n",
            "prime number 646 --> False\n",
            "prime number 647 --> True\n",
            "prime number 648 --> False\n",
            "prime number 649 --> True\n",
            "prime number 650 --> False\n",
            "prime number 651 --> True\n",
            "prime number 652 --> False\n",
            "prime number 653 --> True\n",
            "prime number 654 --> False\n",
            "prime number 655 --> True\n",
            "prime number 656 --> False\n",
            "prime number 657 --> True\n",
            "prime number 658 --> False\n",
            "prime number 659 --> True\n",
            "prime number 660 --> False\n",
            "prime number 661 --> True\n",
            "prime number 662 --> False\n",
            "prime number 663 --> True\n",
            "prime number 664 --> False\n",
            "prime number 665 --> True\n",
            "prime number 666 --> False\n",
            "prime number 667 --> True\n",
            "prime number 668 --> False\n",
            "prime number 669 --> True\n",
            "prime number 670 --> False\n",
            "prime number 671 --> True\n",
            "prime number 672 --> False\n",
            "prime number 673 --> True\n",
            "prime number 674 --> False\n",
            "prime number 675 --> True\n",
            "prime number 676 --> False\n",
            "prime number 677 --> True\n",
            "prime number 678 --> False\n",
            "prime number 679 --> True\n",
            "prime number 680 --> False\n",
            "prime number 681 --> True\n",
            "prime number 682 --> False\n",
            "prime number 683 --> True\n",
            "prime number 684 --> False\n",
            "prime number 685 --> True\n",
            "prime number 686 --> False\n",
            "prime number 687 --> True\n",
            "prime number 688 --> False\n",
            "prime number 689 --> True\n",
            "prime number 690 --> False\n",
            "prime number 691 --> True\n",
            "prime number 692 --> False\n",
            "prime number 693 --> True\n",
            "prime number 694 --> False\n",
            "prime number 695 --> True\n",
            "prime number 696 --> False\n",
            "prime number 697 --> True\n",
            "prime number 698 --> False\n",
            "prime number 699 --> True\n",
            "prime number 700 --> False\n",
            "prime number 701 --> True\n",
            "prime number 702 --> False\n",
            "prime number 703 --> True\n",
            "prime number 704 --> False\n",
            "prime number 705 --> True\n",
            "prime number 706 --> False\n",
            "prime number 707 --> True\n",
            "prime number 708 --> False\n",
            "prime number 709 --> True\n",
            "prime number 710 --> False\n",
            "prime number 711 --> True\n",
            "prime number 712 --> False\n",
            "prime number 713 --> True\n",
            "prime number 714 --> False\n",
            "prime number 715 --> True\n",
            "prime number 716 --> False\n",
            "prime number 717 --> True\n",
            "prime number 718 --> False\n",
            "prime number 719 --> True\n",
            "prime number 720 --> False\n",
            "prime number 721 --> True\n",
            "prime number 722 --> False\n",
            "prime number 723 --> True\n",
            "prime number 724 --> False\n",
            "prime number 725 --> True\n",
            "prime number 726 --> False\n",
            "prime number 727 --> True\n",
            "prime number 728 --> False\n",
            "prime number 729 --> True\n",
            "prime number 730 --> False\n",
            "prime number 731 --> True\n",
            "prime number 732 --> False\n",
            "prime number 733 --> True\n",
            "prime number 734 --> False\n",
            "prime number 735 --> True\n",
            "prime number 736 --> False\n",
            "prime number 737 --> True\n",
            "prime number 738 --> False\n",
            "prime number 739 --> True\n",
            "prime number 740 --> False\n",
            "prime number 741 --> True\n",
            "prime number 742 --> False\n",
            "prime number 743 --> True\n",
            "prime number 744 --> False\n",
            "prime number 745 --> True\n",
            "prime number 746 --> False\n",
            "prime number 747 --> True\n",
            "prime number 748 --> False\n",
            "prime number 749 --> True\n",
            "prime number 750 --> False\n",
            "prime number 751 --> True\n",
            "prime number 752 --> False\n",
            "prime number 753 --> True\n",
            "prime number 754 --> False\n",
            "prime number 755 --> True\n",
            "prime number 756 --> False\n",
            "prime number 757 --> True\n",
            "prime number 758 --> False\n",
            "prime number 759 --> True\n",
            "prime number 760 --> False\n",
            "prime number 761 --> True\n",
            "prime number 762 --> False\n",
            "prime number 763 --> True\n",
            "prime number 764 --> False\n",
            "prime number 765 --> True\n",
            "prime number 766 --> False\n",
            "prime number 767 --> True\n",
            "prime number 768 --> False\n",
            "prime number 769 --> True\n",
            "prime number 770 --> False\n",
            "prime number 771 --> True\n",
            "prime number 772 --> False\n",
            "prime number 773 --> True\n",
            "prime number 774 --> False\n",
            "prime number 775 --> True\n",
            "prime number 776 --> False\n",
            "prime number 777 --> True\n",
            "prime number 778 --> False\n",
            "prime number 779 --> True\n",
            "prime number 780 --> False\n",
            "prime number 781 --> True\n",
            "prime number 782 --> False\n",
            "prime number 783 --> True\n",
            "prime number 784 --> False\n",
            "prime number 785 --> True\n",
            "prime number 786 --> False\n",
            "prime number 787 --> True\n",
            "prime number 788 --> False\n",
            "prime number 789 --> True\n",
            "prime number 790 --> False\n",
            "prime number 791 --> True\n",
            "prime number 792 --> False\n",
            "prime number 793 --> True\n",
            "prime number 794 --> False\n",
            "prime number 795 --> True\n",
            "prime number 796 --> False\n",
            "prime number 797 --> True\n",
            "prime number 798 --> False\n",
            "prime number 799 --> True\n"
          ]
        }
      ]
    },
    {
      "cell_type": "markdown",
      "source": [
        "Q-11 WAP to calculate the time taken by a program.\n"
      ],
      "metadata": {
        "id": "JIHa0GSUVdAr"
      }
    },
    {
      "cell_type": "code",
      "source": [
        "import string as s\n",
        "import random as r\n",
        "import time as t"
      ],
      "metadata": {
        "id": "LOBzrOydVhUN"
      },
      "execution_count": 61,
      "outputs": []
    },
    {
      "cell_type": "code",
      "source": [
        "begin = t.time()\n",
        "i = 0\n",
        "while (i<100):\n",
        "  i = i + 1\n",
        "  rand = r.sample(s.ascii_letters, 15)\n",
        "  print(\"random-->\",i, rand)\n",
        "  rand1 = ''.join(rand)\n",
        "  print(rand1)\n",
        "  end = t.time()\n",
        "  print(\"time take for completion of code-->\", begin - end)"
      ],
      "metadata": {
        "id": "WqIZVVFdUsPG",
        "outputId": "8f3bd001-9e1a-46cb-c5ce-ae878c658a51",
        "colab": {
          "base_uri": "https://localhost:8080/"
        }
      },
      "execution_count": 62,
      "outputs": [
        {
          "output_type": "stream",
          "name": "stdout",
          "text": [
            "random--> 1 ['U', 'n', 'B', 'l', 'A', 'W', 'h', 'e', 'M', 'X', 'j', 'F', 'k', 'N', 'y']\n",
            "UnBlAWheMXjFkNy\n",
            "time take for completion of code--> -0.0004279613494873047\n",
            "random--> 2 ['m', 'D', 'H', 'L', 'S', 'W', 'Y', 'V', 'z', 'd', 'K', 'n', 'g', 'P', 'q']\n",
            "mDHLSWYVzdKngPq\n",
            "time take for completion of code--> -0.0005388259887695312\n",
            "random--> 3 ['e', 'S', 'x', 'f', 'W', 'd', 'i', 'n', 'h', 'z', 'm', 'R', 'M', 'E', 'O']\n",
            "eSxfWdinhzmRMEO\n",
            "time take for completion of code--> -0.000640869140625\n",
            "random--> 4 ['T', 'G', 'm', 'J', 'X', 'i', 'R', 'y', 'N', 'W', 'F', 'c', 'O', 'w', 'f']\n",
            "TGmJXiRyNWFcOwf\n",
            "time take for completion of code--> -0.0007421970367431641\n",
            "random--> 5 ['m', 'r', 'E', 'b', 'Z', 'w', 'H', 'n', 's', 'W', 'P', 'q', 'X', 'K', 'F']\n",
            "mrEbZwHnsWPqXKF\n",
            "time take for completion of code--> -0.00135040283203125\n",
            "random--> 6 ['x', 's', 'F', 'C', 'E', 'M', 'O', 'm', 'o', 'u', 'U', 'Y', 'D', 'q', 'h']\n",
            "xsFCEMOmouUYDqh\n",
            "time take for completion of code--> -0.001461029052734375\n",
            "random--> 7 ['E', 'g', 'c', 'B', 'e', 'p', 'Y', 'Z', 'A', 'm', 'i', 'u', 'C', 'q', 'J']\n",
            "EgcBepYZAmiuCqJ\n",
            "time take for completion of code--> -0.0015690326690673828\n",
            "random--> 8 ['I', 'z', 'm', 'D', 'j', 'T', 'y', 't', 'g', 'W', 'U', 'n', 'l', 'p', 'd']\n",
            "IzmDjTytgWUnlpd\n",
            "time take for completion of code--> -0.001669168472290039\n",
            "random--> 9 ['l', 'I', 'o', 'U', 'e', 'L', 'n', 'B', 'Z', 'E', 'Q', 'G', 'S', 'D', 'A']\n",
            "lIoUeLnBZEQGSDA\n",
            "time take for completion of code--> -0.0017745494842529297\n",
            "random--> 10 ['S', 'y', 'K', 'v', 'Z', 'n', 'u', 'f', 'j', 'W', 'T', 'G', 'R', 'e', 'A']\n",
            "SyKvZnufjWTGReA\n",
            "time take for completion of code--> -0.001924276351928711\n",
            "random--> 11 ['Q', 'l', 'k', 'Z', 'd', 'R', 'm', 'I', 'v', 'e', 'x', 'E', 'r', 'c', 'b']\n",
            "QlkZdRmIvexErcb\n",
            "time take for completion of code--> -0.0020287036895751953\n",
            "random--> 12 ['T', 'K', 'i', 'w', 'f', 'P', 'm', 'e', 'C', 'r', 'v', 'q', 'V', 's', 'a']\n",
            "TKiwfPmeCrvqVsa\n",
            "time take for completion of code--> -0.0021431446075439453\n",
            "random--> 13 ['Z', 'J', 'C', 'a', 'Q', 'x', 'c', 'r', 'D', 's', 'T', 'O', 'd', 'o', 'w']\n",
            "ZJCaQxcrDsTOdow\n",
            "time take for completion of code--> -0.0022475719451904297\n",
            "random--> 14 ['T', 'C', 'E', 'b', 'O', 'M', 'X', 'Q', 'F', 'z', 'B', 'J', 'r', 't', 'D']\n",
            "TCEbOMXQFzBJrtD\n",
            "time take for completion of code--> -0.002520322799682617\n",
            "random--> 15 ['F', 'w', 'X', 'd', 'G', 'h', 't', 'P', 'z', 'N', 'm', 'p', 'J', 'j', 'Q']\n",
            "FwXdGhtPzNmpJjQ\n",
            "time take for completion of code--> -0.0026247501373291016\n",
            "random--> 16 ['b', 'U', 'z', 'C', 'v', 'r', 'E', 'Z', 'W', 'I', 'w', 'x', 'y', 't', 'H']\n",
            "bUzCvrEZWIwxytH\n",
            "time take for completion of code--> -0.002723217010498047\n",
            "random--> 17 ['A', 'n', 'J', 'C', 'b', 'F', 'a', 'Y', 's', 'x', 'o', 'B', 'P', 'O', 'e']\n",
            "AnJCbFaYsxoBPOe\n",
            "time take for completion of code--> -0.0028510093688964844\n",
            "random--> 18 ['V', 't', 'X', 'M', 'F', 'e', 'm', 'Z', 'd', 'D', 'b', 'L', 'E', 'o', 'l']\n",
            "VtXMFemZdDbLEol\n",
            "time take for completion of code--> -0.010292530059814453\n",
            "random--> 19 ['X', 'd', 'U', 'l', 'V', 'E', 'Y', 'Z', 'O', 'z', 'W', 'g', 't', 'K', 'B']\n",
            "XdUlVEYZOzWgtKB\n",
            "time take for completion of code--> -0.010443687438964844\n",
            "random--> 20 ['x', 'k', 'U', 't', 'Z', 'o', 'g', 'i', 'z', 'h', 'D', 'v', 'P', 'W', 'L']\n",
            "xkUtZogizhDvPWL\n",
            "time take for completion of code--> -0.01055002212524414\n",
            "random--> 21 ['U', 'q', 'V', 'l', 'd', 'O', 'H', 'G', 'w', 'i', 'A', 'I', 's', 'n', 'Q']\n",
            "UqVldOHGwiAIsnQ\n",
            "time take for completion of code--> -0.010652780532836914\n",
            "random--> 22 ['U', 'T', 'H', 'u', 'K', 'f', 'Q', 'P', 'l', 'F', 'X', 'v', 'J', 'e', 'j']\n",
            "UTHuKfQPlFXvJej\n",
            "time take for completion of code--> -0.010754823684692383\n",
            "random--> 23 ['U', 'q', 'E', 'v', 'e', 'P', 'j', 'a', 'L', 'w', 'I', 'O', 'T', 'y', 'Q']\n",
            "UqEvePjaLwIOTyQ\n",
            "time take for completion of code--> -0.011147260665893555\n",
            "random--> 24 ['L', 'Y', 'f', 'k', 'z', 'w', 't', 'm', 's', 'K', 'j', 'a', 'c', 'x', 'l']\n",
            "LYfkzwtmsKjacxl\n",
            "time take for completion of code--> -0.011265754699707031\n",
            "random--> 25 ['d', 'Q', 'V', 'U', 'I', 'x', 'A', 'o', 'f', 'm', 'S', 'C', 'z', 'w', 'N']\n",
            "dQVUIxAofmSCzwN\n",
            "time take for completion of code--> -0.011368036270141602\n",
            "random--> 26 ['A', 'z', 'o', 'h', 'B', 'l', 'K', 'Z', 'c', 'W', 'T', 'v', 'm', 'a', 'p']\n",
            "AzohBlKZcWTvmap\n",
            "time take for completion of code--> -0.011469841003417969\n",
            "random--> 27 ['A', 'h', 'z', 'H', 'k', 'V', 'n', 'I', 'r', 'x', 'e', 'j', 'D', 'o', 'X']\n",
            "AhzHkVnIrxejDoX\n",
            "time take for completion of code--> -0.011570453643798828\n",
            "random--> 28 ['J', 'Q', 'O', 'p', 'S', 'T', 'x', 'k', 's', 'd', 't', 'B', 'I', 'o', 'W']\n",
            "JQOpSTxksdtBIoW\n",
            "time take for completion of code--> -0.011672496795654297\n",
            "random--> 29 ['w', 'u', 'n', 'e', 'P', 'l', 'i', 'F', 'Y', 'E', 'j', 'f', 'D', 'o', 'h']\n",
            "wunePliFYEjfDoh\n",
            "time take for completion of code--> -0.011786937713623047\n",
            "random--> 30 ['w', 'O', 'm', 'b', 'A', 'D', 'N', 'U', 'T', 'v', 'x', 'i', 'p', 'W', 'o']\n",
            "wOmbADNUTvxipWo\n",
            "time take for completion of code--> -0.01192331314086914\n",
            "random--> 31 ['U', 'X', 'c', 'e', 'N', 'F', 'V', 'g', 'O', 'D', 'W', 'h', 'f', 'Z', 'R']\n",
            "UXceNFVgODWhfZR\n",
            "time take for completion of code--> -0.012023687362670898\n",
            "random--> 32 ['h', 'b', 'X', 'f', 'v', 'W', 'p', 'A', 'J', 'L', 'B', 'Z', 'C', 'H', 'c']\n",
            "hbXfvWpAJLBZCHc\n",
            "time take for completion of code--> -0.01213383674621582\n",
            "random--> 33 ['e', 'P', 'n', 'T', 'h', 'B', 'Q', 'l', 'k', 'g', 'a', 'H', 'u', 'E', 'W']\n",
            "ePnThBQlkgaHuEW\n",
            "time take for completion of code--> -0.01222681999206543\n",
            "random--> 34 ['M', 'f', 'G', 'F', 'P', 'w', 'T', 'l', 'm', 'd', 'O', 'S', 'b', 'A', 'z']\n",
            "MfGFPwTlmdOSbAz\n",
            "time take for completion of code--> -0.012324810028076172\n",
            "random--> 35 ['E', 'f', 'N', 'x', 'l', 'G', 'L', 'V', 'W', 'F', 's', 'X', 'U', 'y', 'e']\n",
            "EfNxlGLVWFsXUye\n",
            "time take for completion of code--> -0.01242208480834961\n",
            "random--> 36 ['e', 'Q', 's', 'a', 'f', 'Y', 'A', 'v', 'm', 'D', 'K', 'z', 'j', 'r', 'R']\n",
            "eQsafYAvmDKzjrR\n",
            "time take for completion of code--> -0.013570070266723633\n",
            "random--> 37 ['J', 't', 'p', 'E', 'w', 'D', 'O', 'n', 'V', 'S', 'k', 'W', 's', 'G', 'y']\n",
            "JtpEwDOnVSkWsGy\n",
            "time take for completion of code--> -0.01388239860534668\n",
            "random--> 38 ['D', 'B', 'C', 'v', 'L', 'O', 'P', 'T', 'J', 'E', 'S', 'k', 'z', 'x', 't']\n",
            "DBCvLOPTJESkzxt\n",
            "time take for completion of code--> -0.013992071151733398\n",
            "random--> 39 ['j', 'l', 'z', 'h', 'I', 'B', 'p', 'i', 'Z', 'H', 'P', 'U', 'X', 'd', 'g']\n",
            "jlzhIBpiZHPUXdg\n",
            "time take for completion of code--> -0.014111518859863281\n",
            "random--> 40 ['y', 'G', 'p', 'u', 'l', 'B', 'x', 'S', 'T', 'W', 'H', 'd', 'Z', 'e', 'I']\n",
            "yGpulBxSTWHdZeI\n",
            "time take for completion of code--> -0.014209985733032227\n",
            "random--> 41 ['s', 'o', 'I', 'R', 'v', 't', 'K', 'A', 'm', 'r', 'e', 'J', 'w', 'h', 'k']\n",
            "soIRvtKAmreJwhk\n",
            "time take for completion of code--> -0.014311552047729492\n",
            "random--> 42 ['M', 'R', 'u', 'I', 'G', 'j', 'q', 'N', 'L', 'a', 'Y', 'g', 'V', 'z', 'W']\n",
            "MRuIGjqNLaYgVzW\n",
            "time take for completion of code--> -0.014410972595214844\n",
            "random--> 43 ['x', 'W', 'Y', 'B', 'R', 'N', 'U', 'r', 'Z', 'k', 'o', 't', 'D', 'X', 'g']\n",
            "xWYBRNUrZkotDXg\n",
            "time take for completion of code--> -0.014506101608276367\n",
            "random--> 44 ['k', 'c', 'Y', 'j', 'C', 'J', 'A', 'l', 'i', 'N', 'y', 'e', 'w', 'h', 'R']\n",
            "kcYjCJAliNyewhR\n",
            "time take for completion of code--> -0.014609813690185547\n",
            "random--> 45 ['w', 't', 'q', 'Z', 'k', 'N', 'h', 'y', 'D', 'E', 'x', 'r', 'J', 'Y', 'l']\n",
            "wtqZkNhyDExrJYl\n",
            "time take for completion of code--> -0.014707565307617188\n",
            "random--> 46 ['M', 'p', 'N', 'D', 'S', 'f', 'I', 'A', 'P', 'Z', 'y', 'g', 'z', 'K', 'a']\n",
            "MpNDSfIAPZygzKa\n",
            "time take for completion of code--> -0.014830350875854492\n",
            "random--> 47 ['g', 'P', 'm', 'q', 'y', 'Z', 'z', 'b', 'Q', 't', 'F', 'K', 'c', 'L', 'f']\n",
            "gPmqyZzbQtFKcLf\n",
            "time take for completion of code--> -0.014936208724975586\n",
            "random--> 48 ['W', 'H', 'U', 'o', 'w', 'K', 'u', 'm', 'F', 'l', 'I', 'i', 'N', 'k', 'B']\n",
            "WHUowKumFlIiNkB\n",
            "time take for completion of code--> -0.01529240608215332\n",
            "random--> 49 ['n', 'T', 'd', 'H', 'v', 'x', 'h', 'Q', 'j', 'J', 'm', 'K', 'U', 'f', 'y']\n",
            "nTdHvxhQjJmKUfy\n",
            "time take for completion of code--> -0.015424966812133789\n",
            "random--> 50 ['U', 'v', 'D', 'n', 'h', 'c', 'N', 'W', 'w', 'e', 'f', 'o', 'A', 'y', 'l']\n",
            "UvDnhcNWwefoAyl\n",
            "time take for completion of code--> -0.015529394149780273\n",
            "random--> 51 ['x', 'Z', 'f', 'm', 'b', 'r', 'w', 'n', 'z', 'E', 'j', 'A', 'V', 'i', 'l']\n",
            "xZfmbrwnzEjAVil\n",
            "time take for completion of code--> -0.015631437301635742\n",
            "random--> 52 ['D', 'i', 'u', 'f', 'z', 'g', 'F', 'U', 'Q', 'E', 'k', 'G', 'v', 'C', 'l']\n",
            "DiufzgFUQEkGvCl\n",
            "time take for completion of code--> -0.016440153121948242\n",
            "random--> 53 ['C', 'o', 'B', 'Q', 'U', 'X', 'M', 'E', 'd', 'y', 'p', 'n', 'j', 'q', 'u']\n",
            "CoBQUXMEdypnjqu\n",
            "time take for completion of code--> -0.01657700538635254\n",
            "random--> 54 ['I', 'B', 'Y', 'k', 'n', 'T', 'X', 'u', 'W', 'Z', 'z', 'a', 'R', 'O', 'M']\n",
            "IBYknTXuWZzaROM\n",
            "time take for completion of code--> -0.01668095588684082\n",
            "random--> 55 ['z', 'H', 'B', 'e', 'F', 'Q', 'P', 'S', 'u', 'i', 'R', 'w', 'Z', 'K', 'h']\n",
            "zHBeFQPSuiRwZKh\n",
            "time take for completion of code--> -0.01678299903869629\n",
            "random--> 56 ['X', 'j', 'V', 'K', 'J', 'd', 'G', 'z', 'P', 'M', 'b', 't', 'p', 'N', 'Q']\n",
            "XjVKJdGzPMbtpNQ\n",
            "time take for completion of code--> -0.016989946365356445\n",
            "random--> 57 ['r', 'S', 'i', 'g', 'I', 'w', 'k', 'U', 'd', 's', 'p', 'T', 'D', 'P', 'o']\n",
            "rSigIwkUdspTDPo\n",
            "time take for completion of code--> -0.017113447189331055\n",
            "random--> 58 ['P', 'S', 'L', 'F', 'e', 'Q', 'h', 'N', 'b', 'A', 'R', 'f', 's', 'J', 'q']\n",
            "PSLFeQhNbARfsJq\n",
            "time take for completion of code--> -0.017209291458129883\n",
            "random--> 59 ['k', 'R', 'u', 'd', 'f', 'z', 'O', 'x', 'M', 'g', 'V', 'y', 'A', 'b', 'i']\n",
            "kRudfzOxMgVyAbi\n",
            "time take for completion of code--> -0.01749873161315918\n",
            "random--> 60 ['l', 'R', 'o', 'k', 't', 'g', 'd', 'w', 'U', 'h', 'y', 'Q', 'q', 'Z', 'F']\n",
            "lRoktgdwUhyQqZF\n",
            "time take for completion of code--> -0.017650127410888672\n",
            "random--> 61 ['a', 'E', 'x', 'W', 'k', 's', 'V', 'v', 'G', 'c', 'q', 'p', 'd', 'D', 'z']\n",
            "aExWksVvGcqpdDz\n",
            "time take for completion of code--> -0.026918649673461914\n",
            "random--> 62 ['K', 'v', 'N', 'y', 'n', 'w', 'W', 'u', 'q', 'i', 'J', 'F', 's', 'f', 'd']\n",
            "KvNynwWuqiJFsfd\n",
            "time take for completion of code--> -0.027090072631835938\n",
            "random--> 63 ['Z', 'm', 'F', 'h', 'u', 's', 'q', 'D', 'z', 'r', 'f', 'C', 'y', 'c', 'P']\n",
            "ZmFhusqDzrfCycP\n",
            "time take for completion of code--> -0.02720046043395996\n",
            "random--> 64 ['U', 'r', 'j', 'v', 'x', 'q', 'S', 'D', 'A', 'o', 'Y', 'p', 'I', 'G', 'Z']\n",
            "UrjvxqSDAoYpIGZ\n",
            "time take for completion of code--> -0.027300596237182617\n",
            "random--> 65 ['S', 'r', 'l', 'F', 'c', 'R', 'U', 'i', 'H', 'A', 'O', 'B', 'q', 'P', 'n']\n",
            "SrlFcRUiHAOBqPn\n",
            "time take for completion of code--> -0.02739858627319336\n",
            "random--> 66 ['M', 'h', 'U', 'l', 'b', 'q', 'F', 't', 'r', 'z', 'D', 'B', 'o', 'W', 'y']\n",
            "MhUlbqFtrzDBoWy\n",
            "time take for completion of code--> -0.027496814727783203\n",
            "random--> 67 ['c', 'd', 'V', 'A', 'i', 'v', 'Y', 'w', 'W', 'P', 'a', 'e', 'x', 'N', 'G']\n",
            "cdVAivYwWPaexNG\n",
            "time take for completion of code--> -0.027595043182373047\n",
            "random--> 68 ['o', 'q', 'V', 'f', 't', 'D', 'a', 'z', 'L', 'u', 'v', 'S', 'W', 'Z', 'P']\n",
            "oqVftDazLuvSWZP\n",
            "time take for completion of code--> -0.02769327163696289\n",
            "random--> 69 ['i', 'h', 'G', 'q', 'l', 't', 'x', 'o', 'O', 'j', 'P', 'c', 'T', 'K', 'v']\n",
            "ihGqltxoOjPcTKv\n",
            "time take for completion of code--> -0.027811050415039062\n",
            "random--> 70 ['t', 'F', 'Q', 'k', 'G', 'S', 'x', 'C', 'i', 'v', 'W', 'g', 'm', 'H', 'I']\n",
            "tFQkGSxCivWgmHI\n",
            "time take for completion of code--> -0.02791881561279297\n",
            "random--> 71 ['R', 'M', 'z', 'A', 'q', 'f', 'W', 'p', 'v', 'l', 'o', 'S', 'a', 'e', 'V']\n",
            "RMzAqfWpvloSaeV\n",
            "time take for completion of code--> -0.028021812438964844\n",
            "random--> 72 ['t', 'c', 'z', 'B', 'p', 'a', 'S', 'y', 'P', 'M', 'q', 'U', 'v', 'H', 'h']\n",
            "tczBpaSyPMqUvHh\n",
            "time take for completion of code--> -0.02813243865966797\n",
            "random--> 73 ['H', 'e', 'O', 'd', 'G', 'M', 'N', 'Z', 'g', 'h', 'E', 'Q', 'X', 'T', 'z']\n",
            "HeOdGMNZghEQXTz\n",
            "time take for completion of code--> -0.028226613998413086\n",
            "random--> 74 ['E', 'N', 'W', 'h', 'Q', 'x', 'i', 'M', 'G', 'b', 's', 'v', 'I', 't', 'U']\n",
            "ENWhQxiMGbsvItU\n",
            "time take for completion of code--> -0.028333187103271484\n",
            "random--> 75 ['R', 'p', 'K', 't', 'I', 'W', 'k', 'g', 'Z', 'b', 'v', 'z', 'B', 'U', 'f']\n",
            "RpKtIWkgZbvzBUf\n",
            "time take for completion of code--> -0.028692245483398438\n",
            "random--> 76 ['o', 'P', 'n', 't', 'p', 'x', 'g', 'H', 'C', 'J', 'U', 'L', 'k', 'c', 'D']\n",
            "oPntpxgHCJULkcD\n",
            "time take for completion of code--> -0.028825044631958008\n",
            "random--> 77 ['W', 'L', 'C', 'i', 'u', 'T', 'V', 'A', 'k', 'z', 'I', 'O', 'H', 'l', 's']\n",
            "WLCiuTVAkzIOHls\n",
            "time take for completion of code--> -0.028923511505126953\n",
            "random--> 78 ['k', 'n', 'L', 'z', 'p', 'y', 'W', 'Z', 'S', 'b', 'j', 'G', 'D', 'u', 'E']\n",
            "knLzpyWZSbjGDuE\n",
            "time take for completion of code--> -0.02902078628540039\n",
            "random--> 79 ['p', 'h', 'y', 'n', 'F', 'r', 'g', 'k', 'w', 'j', 'm', 'v', 'e', 'P', 'd']\n",
            "phynFrgkwjmvePd\n",
            "time take for completion of code--> -0.029134273529052734\n",
            "random--> 80 ['H', 's', 'w', 'j', 'h', 'S', 'I', 'V', 'c', 'l', 'C', 'p', 'n', 'P', 'D']\n",
            "HswjhSIVclCpnPD\n",
            "time take for completion of code--> -0.029342174530029297\n",
            "random--> 81 ['y', 'Y', 'H', 'C', 'A', 'D', 'B', 'i', 'f', 'j', 'J', 'a', 'v', 'R', 'o']\n",
            "yYHCADBifjJavRo\n",
            "time take for completion of code--> -0.029460668563842773\n",
            "random--> 82 ['b', 'T', 'S', 'G', 'd', 'L', 'l', 'i', 'D', 'e', 'j', 'Z', 'X', 'A', 'c']\n",
            "bTSGdLliDejZXAc\n",
            "time take for completion of code--> -0.029563426971435547\n",
            "random--> 83 ['P', 'J', 'y', 'G', 'w', 'Q', 'o', 'm', 'A', 'U', 'W', 'O', 'e', 'M', 's']\n",
            "PJyGwQomAUWOeMs\n",
            "time take for completion of code--> -0.029667377471923828\n",
            "random--> 84 ['E', 'g', 'N', 'y', 'm', 'h', 'w', 'S', 'j', 'P', 'J', 'Q', 'd', 'R', 's']\n",
            "EgNymhwSjPJQdRs\n",
            "time take for completion of code--> -0.029763460159301758\n",
            "random--> 85 ['D', 'o', 'H', 'q', 'Q', 'X', 'u', 'C', 'T', 'j', 'x', 'S', 'b', 'w', 'M']\n",
            "DoHqQXuCTjxSbwM\n",
            "time take for completion of code--> -0.02991199493408203\n",
            "random--> 86 ['D', 'K', 'd', 'J', 'I', 'q', 'm', 'a', 'w', 'U', 'T', 'V', 'E', 'Q', 'u']\n",
            "DKdJIqmawUTVEQu\n",
            "time take for completion of code--> -0.030014753341674805\n",
            "random--> 87 ['W', 'Z', 'R', 'O', 'H', 'D', 'A', 'S', 'c', 'a', 'i', 'k', 'v', 'j', 'x']\n",
            "WZROHDAScaikvjx\n",
            "time take for completion of code--> -0.030131101608276367\n",
            "random--> 88 ['k', 'h', 'c', 'e', 'L', 'X', 'g', 'u', 'Z', 'x', 'N', 'B', 'E', 'w', 'r']\n",
            "khceLXguZxNBEwr\n",
            "time take for completion of code--> -0.03023242950439453\n",
            "random--> 89 ['Z', 'W', 'M', 'j', 'T', 'y', 'D', 'B', 'L', 't', 'O', 'E', 'N', 'e', 'w']\n",
            "ZWMjTyDBLtOENew\n",
            "time take for completion of code--> -0.030336856842041016\n",
            "random--> 90 ['V', 'l', 'i', 'q', 'b', 'E', 'm', 't', 'u', 'd', 'D', 'c', 'k', 'h', 'r']\n",
            "VliqbEmtudDckhr\n",
            "time take for completion of code--> -0.030437231063842773\n",
            "random--> 91 ['A', 'X', 'W', 'Z', 'P', 's', 'B', 'I', 'F', 'G', 'f', 'n', 'V', 'e', 'S']\n",
            "AXWZPsBIFGfnVeS\n",
            "time take for completion of code--> -0.030544757843017578\n",
            "random--> 92 ['D', 'x', 'W', 'd', 'N', 'j', 'V', 'u', 'L', 'K', 'c', 'Y', 'l', 'E', 'b']\n",
            "DxWdNjVuLKcYlEb\n",
            "time take for completion of code--> -0.03064417839050293\n",
            "random--> 93 ['P', 'L', 'S', 'r', 'v', 'N', 'k', 'u', 'J', 'b', 'l', 'T', 'W', 'C', 't']\n",
            "PLSrvNkuJblTWCt\n",
            "time take for completion of code--> -0.030743122100830078\n",
            "random--> 94 ['W', 'M', 'X', 'x', 'w', 'E', 'h', 'H', 'm', 'V', 'Y', 'b', 'd', 'Q', 'c']\n",
            "WMXxwEhHmVYbdQc\n",
            "time take for completion of code--> -0.03086686134338379\n",
            "random--> 95 ['P', 'J', 'V', 'E', 'U', 'x', 'n', 'L', 'T', 'k', 'u', 'M', 'b', 'O', 'l']\n",
            "PJVEUxnLTkuMbOl\n",
            "time take for completion of code--> -0.03096914291381836\n",
            "random--> 96 ['L', 'B', 'O', 'r', 'o', 's', 'N', 'F', 'K', 'Q', 'd', 'W', 'i', 'J', 'Z']\n",
            "LBOrosNFKQdWiJZ\n",
            "time take for completion of code--> -0.031090736389160156\n",
            "random--> 97 ['f', 'x', 'y', 'j', 'u', 'D', 'K', 'M', 'W', 'l', 'P', 'B', 'O', 'Z', 'R']\n",
            "fxyjuDKMWlPBOZR\n",
            "time take for completion of code--> -0.031195640563964844\n",
            "random--> 98 ['D', 's', 'r', 'L', 'f', 'F', 'l', 'K', 'V', 'X', 'z', 'v', 'H', 'B', 'p']\n",
            "DsrLfFlKVXzvHBp\n",
            "time take for completion of code--> -0.0312962532043457\n",
            "random--> 99 ['x', 'v', 'U', 'K', 'D', 'e', 'Z', 'O', 'Y', 'M', 'f', 'r', 'B', 'J', 'T']\n",
            "xvUKDeZOYMfrBJT\n",
            "time take for completion of code--> -0.031545400619506836\n",
            "random--> 100 ['b', 'A', 'w', 'O', 'I', 'B', 'V', 'H', 'M', 'N', 'n', 'W', 'x', 's', 'g']\n",
            "bAwOIBVHMNnWxsg\n",
            "time take for completion of code--> -0.03176999092102051\n"
          ]
        }
      ]
    }
  ]
}